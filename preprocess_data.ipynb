{
 "cells": [
  {
   "cell_type": "code",
   "execution_count": 73,
   "metadata": {},
   "outputs": [],
   "source": [
    "import os\n",
    "import pandas as pd"
   ]
  },
  {
   "cell_type": "code",
   "execution_count": 78,
   "metadata": {},
   "outputs": [],
   "source": [
    "OUTPUT_DIR = '/run/media/root/Windows/Users/agnes/Downloads/data/msmarco'"
   ]
  },
  {
   "cell_type": "code",
   "execution_count": 79,
   "metadata": {},
   "outputs": [],
   "source": [
    "MSMARCO_DIR = '/home/agnes/Downloads/data/msmarco'"
   ]
  },
  {
   "cell_type": "code",
   "execution_count": 80,
   "metadata": {},
   "outputs": [],
   "source": [
    "train_data = os.path.join(MSMARCO_DIR, 'triples.train.small.tsv')\n",
    "#train_data_small = os.path.join(MSMARCO_DIR, 'triples.train.smaller.tsv')"
   ]
  },
  {
   "cell_type": "code",
   "execution_count": 100,
   "metadata": {},
   "outputs": [],
   "source": [
    "df = pd.read_csv(train_data, sep='\\t', header=None, nrows=5000, names=['query', 'relevant_doc', 'irrelevant_doc'])"
   ]
  },
  {
   "cell_type": "code",
   "execution_count": 101,
   "metadata": {},
   "outputs": [],
   "source": [
    "df.sort_values(inplace=True, by='query')"
   ]
  },
  {
   "cell_type": "code",
   "execution_count": 102,
   "metadata": {},
   "outputs": [],
   "source": [
    "queries = list(sorted(set(df['query'])))"
   ]
  },
  {
   "cell_type": "code",
   "execution_count": 103,
   "metadata": {},
   "outputs": [
    {
     "data": {
      "text/plain": [
       "4951"
      ]
     },
     "execution_count": 103,
     "metadata": {},
     "output_type": "execute_result"
    }
   ],
   "source": [
    "nr_queries = len(queries)\n",
    "nr_queries"
   ]
  },
  {
   "cell_type": "code",
   "execution_count": 104,
   "metadata": {},
   "outputs": [
    {
     "name": "stdout",
     "output_type": "stream",
     "text": [
      "/git/nb\n"
     ]
    }
   ],
   "source": [
    "import subprocess\n",
    "process = subprocess.Popen(['pwd', '../'], stdout=subprocess.PIPE, stderr=subprocess.PIPE)\n",
    "out, err = process.communicate()\n",
    "print(out.decode('UTF-8').rstrip())"
   ]
  },
  {
   "cell_type": "code",
   "execution_count": null,
   "metadata": {
    "scrolled": true
   },
   "outputs": [
    {
     "name": "stdout",
     "output_type": "stream",
     "text": [
      "query 190 of 4951\n",
      "query 200 of 4951\n",
      "query 210 of 4951\n",
      "query 220 of 4951\n",
      "query 230 of 4951\n",
      "query 240 of 4951\n",
      "query 250 of 4951\n",
      "query 260 of 4951\n",
      "query 270 of 4951\n",
      "query 280 of 4951\n",
      "query 290 of 4951\n",
      "query 300 of 4951\n",
      "query 310 of 4951\n",
      "query 320 of 4951\n",
      "query 330 of 4951\n",
      "query 340 of 4951\n",
      "query 350 of 4951\n",
      "query 360 of 4951\n",
      "query 370 of 4951\n",
      "query 380 of 4951\n",
      "query 390 of 4951\n",
      "query 400 of 4951\n",
      "query 410 of 4951\n",
      "query 420 of 4951\n",
      "query 430 of 4951\n",
      "query 440 of 4951\n",
      "query 450 of 4951\n",
      "query 460 of 4951\n",
      "query 470 of 4951\n",
      "query 480 of 4951\n",
      "query 490 of 4951\n",
      "query 500 of 4951\n",
      "query 510 of 4951\n",
      "query 520 of 4951\n",
      "query 530 of 4951\n",
      "query 540 of 4951\n",
      "query 550 of 4951\n",
      "query 560 of 4951\n",
      "query 570 of 4951\n",
      "query 580 of 4951\n",
      "query 590 of 4951\n",
      "query 600 of 4951\n",
      "query 610 of 4951\n",
      "query 620 of 4951\n",
      "query 630 of 4951\n",
      "query 640 of 4951\n",
      "query 650 of 4951\n",
      "query 660 of 4951\n",
      "query 670 of 4951\n",
      "query 680 of 4951\n",
      "query 690 of 4951\n",
      "query 700 of 4951\n",
      "query 710 of 4951\n",
      "query 720 of 4951\n",
      "query 730 of 4951\n",
      "query 740 of 4951\n",
      "query 750 of 4951\n",
      "query 760 of 4951\n",
      "query 780 of 4951\n",
      "query 790 of 4951\n",
      "query 800 of 4951\n",
      "query 810 of 4951\n",
      "query 820 of 4951\n",
      "query 830 of 4951\n",
      "query 840 of 4951\n",
      "query 850 of 4951\n",
      "query 860 of 4951\n",
      "query 870 of 4951\n",
      "query 880 of 4951\n",
      "query 890 of 4951\n",
      "query 900 of 4951\n",
      "query 910 of 4951\n",
      "query 920 of 4951\n",
      "query 930 of 4951\n",
      "query 940 of 4951\n",
      "query 950 of 4951\n",
      "query 960 of 4951\n",
      "query 970 of 4951\n",
      "query 980 of 4951\n",
      "query 990 of 4951\n"
     ]
    }
   ],
   "source": [
    "for i, q in enumerate(queries):\n",
    "    filename = q.replace(\" \", \"_\")+\".txt\"\n",
    "    full_filename = os.path.join(OUTPUT_DIR, \"queries3\", filename)    \n",
    "    \n",
    "    if os.path.exists(full_filename):\n",
    "        #print('file \"{:s}\" already exists'.format(filename))\n",
    "        continue\n",
    "        \n",
    "    try:\n",
    "        fo = open(full_filename, \"w\")\n",
    "    except:\n",
    "        continue\n",
    "        \n",
    "    process = subprocess.Popen(['grep',  q , train_data], stdout=fo, stderr=subprocess.PIPE,\n",
    "                              encoding='utf-8')\n",
    "    \n",
    "    out, err = process.communicate()\n",
    "    #print(out.decode('UTF-8').rstrip())\n",
    "    fo.close()\n",
    "    #if i >= 0:\n",
    "    #    break\n",
    "    if i % 10 == 0:\n",
    "        print('query {:d} of {:d}'.format(i, nr_queries))"
   ]
  },
  {
   "cell_type": "code",
   "execution_count": null,
   "metadata": {},
   "outputs": [],
   "source": []
  }
 ],
 "metadata": {
  "kernelspec": {
   "display_name": "udacity-project",
   "language": "python",
   "name": "udacity-project"
  },
  "language_info": {
   "codemirror_mode": {
    "name": "ipython",
    "version": 3
   },
   "file_extension": ".py",
   "mimetype": "text/x-python",
   "name": "python",
   "nbconvert_exporter": "python",
   "pygments_lexer": "ipython3",
   "version": "3.6.5"
  }
 },
 "nbformat": 4,
 "nbformat_minor": 4
}
