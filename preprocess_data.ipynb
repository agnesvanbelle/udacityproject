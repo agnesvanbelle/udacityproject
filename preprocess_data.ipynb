{
 "cells": [
  {
   "cell_type": "code",
   "execution_count": 107,
   "metadata": {},
   "outputs": [],
   "source": [
    "import os\n",
    "import pandas as pd"
   ]
  },
  {
   "cell_type": "code",
   "execution_count": 108,
   "metadata": {},
   "outputs": [],
   "source": [
    "OUTPUT_DIR = '/run/media/root/Windows/Users/agnes/Downloads/data/msmarco'"
   ]
  },
  {
   "cell_type": "code",
   "execution_count": 109,
   "metadata": {},
   "outputs": [],
   "source": [
    "MSMARCO_DIR = '/home/agnes/Downloads/data/msmarco'"
   ]
  },
  {
   "cell_type": "code",
   "execution_count": 110,
   "metadata": {},
   "outputs": [],
   "source": [
    "train_data = os.path.join(MSMARCO_DIR, 'triples.train.small.tsv')\n",
    "#train_data_small = os.path.join(MSMARCO_DIR, 'triples.train.smaller.tsv')"
   ]
  },
  {
   "cell_type": "code",
   "execution_count": 111,
   "metadata": {},
   "outputs": [],
   "source": [
    "df = pd.read_csv(train_data, sep='\\t', header=None, nrows=10000, names=['query', 'relevant_doc', 'irrelevant_doc'])"
   ]
  },
  {
   "cell_type": "code",
   "execution_count": 112,
   "metadata": {},
   "outputs": [],
   "source": [
    "df.sort_values(inplace=True, by='query')"
   ]
  },
  {
   "cell_type": "code",
   "execution_count": 113,
   "metadata": {},
   "outputs": [],
   "source": [
    "queries = list(sorted(set(df['query'])))"
   ]
  },
  {
   "cell_type": "code",
   "execution_count": 114,
   "metadata": {},
   "outputs": [
    {
     "data": {
      "text/plain": [
       "9821"
      ]
     },
     "execution_count": 114,
     "metadata": {},
     "output_type": "execute_result"
    }
   ],
   "source": [
    "nr_queries = len(queries)\n",
    "nr_queries"
   ]
  },
  {
   "cell_type": "code",
   "execution_count": 115,
   "metadata": {},
   "outputs": [
    {
     "name": "stdout",
     "output_type": "stream",
     "text": [
      "/git/nb\n"
     ]
    }
   ],
   "source": [
    "import subprocess\n",
    "process = subprocess.Popen(['pwd', '../'], stdout=subprocess.PIPE, stderr=subprocess.PIPE)\n",
    "out, err = process.communicate()\n",
    "print(out.decode('UTF-8').rstrip())"
   ]
  },
  {
   "cell_type": "code",
   "execution_count": null,
   "metadata": {
    "scrolled": true
   },
   "outputs": [
    {
     "name": "stdout",
     "output_type": "stream",
     "text": [
      "query 300 of 9821\n",
      "query 320 of 9821\n",
      "query 330 of 9821\n",
      "query 410 of 9821\n",
      "query 420 of 9821\n",
      "query 440 of 9821\n",
      "query 450 of 9821\n",
      "query 500 of 9821\n",
      "query 510 of 9821\n",
      "query 550 of 9821\n",
      "query 580 of 9821\n",
      "query 610 of 9821\n",
      "query 620 of 9821\n",
      "query 650 of 9821\n",
      "query 670 of 9821\n",
      "query 690 of 9821\n",
      "query 720 of 9821\n",
      "query 730 of 9821\n",
      "query 750 of 9821\n",
      "query 760 of 9821\n",
      "query 780 of 9821\n",
      "query 790 of 9821\n",
      "query 810 of 9821\n",
      "query 830 of 9821\n",
      "query 850 of 9821\n",
      "query 860 of 9821\n",
      "query 870 of 9821\n",
      "query 940 of 9821\n",
      "query 960 of 9821\n",
      "query 970 of 9821\n",
      "query 980 of 9821\n",
      "query 990 of 9821\n",
      "query 1000 of 9821\n",
      "query 1010 of 9821\n",
      "query 1020 of 9821\n",
      "query 1040 of 9821\n",
      "query 1050 of 9821\n",
      "query 1070 of 9821\n",
      "query 1080 of 9821\n",
      "query 1090 of 9821\n",
      "query 1110 of 9821\n",
      "query 1160 of 9821\n",
      "query 1190 of 9821\n",
      "query 1200 of 9821\n",
      "query 1220 of 9821\n",
      "query 1230 of 9821\n",
      "query 1270 of 9821\n",
      "query 1290 of 9821\n",
      "query 1330 of 9821\n",
      "query 1350 of 9821\n",
      "query 1370 of 9821\n",
      "query 1390 of 9821\n",
      "query 1410 of 9821\n",
      "query 1420 of 9821\n",
      "query 1440 of 9821\n",
      "query 1450 of 9821\n",
      "query 1470 of 9821\n",
      "query 1490 of 9821\n",
      "query 1500 of 9821\n",
      "query 1510 of 9821\n",
      "query 1530 of 9821\n",
      "query 1540 of 9821\n",
      "query 1570 of 9821\n"
     ]
    }
   ],
   "source": [
    "for i, q in enumerate(queries):\n",
    "    filename = q.replace(\" \", \"_\")+\".txt\"\n",
    "    full_filename = os.path.join(OUTPUT_DIR, \"queries4\", filename)    \n",
    "    \n",
    "    if os.path.exists(full_filename):\n",
    "        #print('file \"{:s}\" already exists'.format(filename))\n",
    "        continue\n",
    "        \n",
    "    try:\n",
    "        fo = open(full_filename, \"w\")\n",
    "    except:\n",
    "        continue\n",
    "    \n",
    "    # we grep for the query in the train set so we get all the results belonging to the same query\n",
    "    process = subprocess.Popen(['grep',  q , train_data], stdout=fo, stderr=subprocess.PIPE,\n",
    "                              encoding='utf-8')\n",
    "    \n",
    "    out, err = process.communicate()\n",
    "    #print(out.decode('UTF-8').rstrip())\n",
    "    fo.close()\n",
    "    #if i >= 0:\n",
    "    #    break\n",
    "    if i % 10 == 0:\n",
    "        print('query {:d} of {:d}'.format(i, nr_queries))"
   ]
  },
  {
   "cell_type": "code",
   "execution_count": null,
   "metadata": {},
   "outputs": [],
   "source": []
  }
 ],
 "metadata": {
  "kernelspec": {
   "display_name": "udacity-project",
   "language": "python",
   "name": "udacity-project"
  },
  "language_info": {
   "codemirror_mode": {
    "name": "ipython",
    "version": 3
   },
   "file_extension": ".py",
   "mimetype": "text/x-python",
   "name": "python",
   "nbconvert_exporter": "python",
   "pygments_lexer": "ipython3",
   "version": "3.6.5"
  }
 },
 "nbformat": 4,
 "nbformat_minor": 4
}
