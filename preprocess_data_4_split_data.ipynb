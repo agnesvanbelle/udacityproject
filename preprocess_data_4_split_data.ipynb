{
 "cells": [
  {
   "cell_type": "code",
   "execution_count": 7,
   "metadata": {},
   "outputs": [],
   "source": [
    "import os\n",
    "import pandas as pd"
   ]
  },
  {
   "cell_type": "code",
   "execution_count": 8,
   "metadata": {},
   "outputs": [],
   "source": [
    "TRAIN_DATA_DIR = '/run/media/root/Windows/Users/agnes/Downloads/data/msmarco/train_data'"
   ]
  },
  {
   "cell_type": "code",
   "execution_count": 9,
   "metadata": {},
   "outputs": [],
   "source": [
    "def make_seperate_files(traintestdevsplit_file, source_file):\n",
    "    \n",
    "    split_df = pd.read_csv(traintestdevsplit_file)\n",
    "    source_df = pd.read_csv(source_file)\n",
    "    \n",
    "    file_prefix = os.path.splitext(os.path.basename(source_file))[0]\n",
    "\n",
    "    output_dir = os.path.join(TRAIN_DATA_DIR, 'splitted', file_prefix)\n",
    "    if not os.path.exists(output_dir):\n",
    "        os.makedirs(output_dir)        \n",
    "    \n",
    "    for split_type in ['train', 'dev', 'test']:\n",
    "        qids = split_df[split_df['type'] == split_type]['qid']\n",
    "        source_selection = source_df[source_df['qid'].isin(qids)]\n",
    "        source_selection.to_csv(os.path.join(output_dir, file_prefix + '_' + split_type + '.csv'),\n",
    "                               index=None)    \n"
   ]
  },
  {
   "cell_type": "code",
   "execution_count": 10,
   "metadata": {},
   "outputs": [],
   "source": [
    "make_seperate_files(os.path.join(TRAIN_DATA_DIR, 'queries3_split.csv'),\n",
    "                    os.path.join(TRAIN_DATA_DIR, 'queries3_entiredoc_regression.csv'))"
   ]
  },
  {
   "cell_type": "code",
   "execution_count": 11,
   "metadata": {},
   "outputs": [],
   "source": [
    "\n",
    "make_seperate_files(os.path.join(TRAIN_DATA_DIR, 'queries3_od_split.csv'),\n",
    "                    os.path.join(TRAIN_DATA_DIR, 'queries3_od_entiredoc_regression.csv'))\n"
   ]
  },
  {
   "cell_type": "code",
   "execution_count": null,
   "metadata": {},
   "outputs": [],
   "source": []
  }
 ],
 "metadata": {
  "kernelspec": {
   "display_name": "udacity-project",
   "language": "python",
   "name": "udacity-project"
  },
  "language_info": {
   "codemirror_mode": {
    "name": "ipython",
    "version": 3
   },
   "file_extension": ".py",
   "mimetype": "text/x-python",
   "name": "python",
   "nbconvert_exporter": "python",
   "pygments_lexer": "ipython3",
   "version": "3.6.5"
  }
 },
 "nbformat": 4,
 "nbformat_minor": 4
}
