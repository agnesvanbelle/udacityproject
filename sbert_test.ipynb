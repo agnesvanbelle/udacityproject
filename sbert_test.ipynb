{
 "cells": [
  {
   "cell_type": "code",
   "execution_count": 41,
   "metadata": {
    "scrolled": true
   },
   "outputs": [],
   "source": [
    "import os\n",
    "import numpy as np\n",
    "import pandas as pd\n",
    "import math\n",
    "import csv\n",
    "\n",
    "import transformers\n",
    "from sentence_transformers import SentenceTransformer, SentencesDataset, losses\n",
    "from sentence_transformers.readers import STSDataReader, TripletReader\n",
    "from sentence_transformers.evaluation import EmbeddingSimilarityEvaluator, BinaryEmbeddingSimilarityEvaluator\n",
    "from sentence_transformers.readers.InputExample import InputExample\n",
    "\n",
    "from torch.utils.data import DataLoader\n",
    "\n",
    "from scipy.spatial.distance import cdist\n"
   ]
  },
  {
   "cell_type": "code",
   "execution_count": 14,
   "metadata": {
    "scrolled": true
   },
   "outputs": [],
   "source": [
    "TRAIN_SPLITS_DATA_DIR = '/run/media/root/Windows/Users/agnes/Downloads/data/msmarco/train_data/splitted'"
   ]
  },
  {
   "cell_type": "code",
   "execution_count": 2,
   "metadata": {
    "scrolled": true
   },
   "outputs": [],
   "source": [
    "# increase swap size:\n",
    "# https://superuser.com/questions/1024064/change-swap-file-size-fedora-23"
   ]
  },
  {
   "cell_type": "code",
   "execution_count": 3,
   "metadata": {
    "scrolled": true
   },
   "outputs": [],
   "source": [
    "model_wiki = SentenceTransformer('bert-base-wikipedia-sections-mean-tokens')"
   ]
  },
  {
   "cell_type": "code",
   "execution_count": 4,
   "metadata": {
    "scrolled": true
   },
   "outputs": [],
   "source": [
    "model_1 = SentenceTransformer('roberta-large-nli-stsb-mean-tokens')"
   ]
  },
  {
   "cell_type": "code",
   "execution_count": 5,
   "metadata": {
    "scrolled": true
   },
   "outputs": [
    {
     "data": {
      "text/plain": [
       "128"
      ]
     },
     "execution_count": 5,
     "metadata": {},
     "output_type": "execute_result"
    }
   ],
   "source": [
    "model_1.get_max_seq_length()"
   ]
  },
  {
   "cell_type": "code",
   "execution_count": 6,
   "metadata": {
    "scrolled": true
   },
   "outputs": [],
   "source": [
    "sentences = ['A fox lives in a zoo together with dogs.',\n",
    "            'Sentences are passed as a list of string.', \n",
    "            'The quick brown fox jumps over the lazy dog.']\n"
   ]
  },
  {
   "cell_type": "code",
   "execution_count": 7,
   "metadata": {
    "scrolled": true
   },
   "outputs": [
    {
     "data": {
      "text/plain": [
       "array([0.01991861, 0.01082202])"
      ]
     },
     "execution_count": 7,
     "metadata": {},
     "output_type": "execute_result"
    }
   ],
   "source": [
    "embeddings = model_wiki.encode(sentences)\n",
    "sims = cdist(embeddings[0].reshape(-1,1).T, embeddings[1:], \"cosine\")[0]\n",
    "sims"
   ]
  },
  {
   "cell_type": "code",
   "execution_count": 8,
   "metadata": {
    "scrolled": true
   },
   "outputs": [
    {
     "data": {
      "text/plain": [
       "array([0.95112492, 0.58440415])"
      ]
     },
     "execution_count": 8,
     "metadata": {},
     "output_type": "execute_result"
    }
   ],
   "source": [
    "embeddings = model_1.encode(sentences)\n",
    "sims = cdist(embeddings[0].reshape(-1,1).T, embeddings[1:], \"cosine\")[0]\n",
    "sims"
   ]
  },
  {
   "cell_type": "code",
   "execution_count": 9,
   "metadata": {
    "scrolled": true
   },
   "outputs": [],
   "source": [
    "############"
   ]
  },
  {
   "cell_type": "code",
   "execution_count": 16,
   "metadata": {
    "scrolled": true
   },
   "outputs": [],
   "source": [
    "#datareader for the regression/raw data\n",
    "class MyDataReader(STSDataReader):\n",
    "    '''\n",
    "    Need to reimplement get_examples method from class STSDataReader because\n",
    "    our csv file has a header.\n",
    "    '''\n",
    "    \n",
    "    def __init__(self, dataset_folder, **kwargs):\n",
    "        super(MyDataReader,self).__init__(dataset_folder, **kwargs)\n",
    "        \n",
    "    def get_examples(self, filename, header=True, max_examples=0):\n",
    "        \"\"\"\n",
    "        filename specified which data split to use (train.csv, dev.csv, test.csv).\n",
    "        \"\"\"\n",
    "        data = csv.reader(open(os.path.join(self.dataset_folder, filename), encoding=\"utf-8\"),\n",
    "                          delimiter=self.delimiter, quoting=self.quoting)\n",
    "        if header:\n",
    "            next(data, None)  # skip the header\n",
    "        examples = []\n",
    "        for id, row in enumerate(data):\n",
    "            score = float(row[self.score_col_idx])\n",
    "            if self.normalize_scores:  # Normalize to a 0...1 value\n",
    "                score = (score - self.min_score) / (self.max_score - self.min_score)\n",
    "\n",
    "            s1 = row[self.s1_col_idx]\n",
    "            s2 = row[self.s2_col_idx]\n",
    "            examples.append(InputExample(guid=filename+str(id), texts=[s1, s2], label=score))\n",
    "\n",
    "            if max_examples > 0 and len(examples) >= max_examples:\n",
    "                break\n",
    "\n",
    "        return examples\n"
   ]
  },
  {
   "cell_type": "code",
   "execution_count": 17,
   "metadata": {
    "scrolled": true
   },
   "outputs": [
    {
     "data": {
      "text/plain": [
       "[<sentence_transformers.readers.InputExample.InputExample at 0x7f5ecd6d8780>,\n",
       " <sentence_transformers.readers.InputExample.InputExample at 0x7f5e3ad58208>]"
      ]
     },
     "execution_count": 17,
     "metadata": {},
     "output_type": "execute_result"
    }
   ],
   "source": [
    "myreader_regression = MyDataReader(\n",
    "                       os.path.join(TRAIN_SPLITS_DATA_DIR, 'queries3_sentences_regression'),\n",
    "                       s1_col_idx=1,\n",
    "                       s2_col_idx=3,\n",
    "                       score_col_idx=2,\n",
    "                       delimiter=\",\",\n",
    "                       quoting=csv.QUOTE_MINIMAL,\n",
    "                       normalize_scores=False, min_score=0, max_score=1)\n",
    "\n",
    "myreader_regression.get_examples('queries3_sentences_regression_dev.csv', max_examples=2)"
   ]
  },
  {
   "cell_type": "code",
   "execution_count": 28,
   "metadata": {
    "scrolled": true
   },
   "outputs": [
    {
     "name": "stderr",
     "output_type": "stream",
     "text": [
      "\n",
      "Convert dataset:   0%|          | 0/100000 [00:00<?, ?it/s]\u001b[A\n",
      "Convert dataset:   0%|          | 299/100000 [00:00<00:33, 2986.58it/s]\u001b[A\n",
      "Convert dataset:   1%|          | 629/100000 [00:00<00:32, 3073.53it/s]\u001b[A\n",
      "Convert dataset:   1%|          | 920/100000 [00:00<00:32, 3021.69it/s]\u001b[A\n",
      "Convert dataset:   1%|          | 1234/100000 [00:00<00:32, 3054.85it/s]\u001b[A\n",
      "Convert dataset:   2%|▏         | 1526/100000 [00:00<00:32, 3011.26it/s]\u001b[A\n",
      "Convert dataset:   2%|▏         | 1847/100000 [00:00<00:32, 3066.16it/s]\u001b[A\n",
      "Convert dataset:   2%|▏         | 2156/100000 [00:00<00:31, 3072.59it/s]\u001b[A\n",
      "Convert dataset:   2%|▏         | 2463/100000 [00:00<00:31, 3071.73it/s]\u001b[A\n",
      "Convert dataset:   3%|▎         | 2841/100000 [00:00<00:29, 3253.54it/s]\u001b[A\n",
      "Convert dataset:   3%|▎         | 3163/100000 [00:01<00:29, 3242.88it/s]\u001b[A\n",
      "Convert dataset:   3%|▎         | 3482/100000 [00:01<00:30, 3133.01it/s]\u001b[A\n",
      "Convert dataset:   4%|▍         | 3793/100000 [00:01<00:30, 3125.18it/s]\u001b[A\n",
      "Convert dataset:   4%|▍         | 4134/100000 [00:01<00:29, 3204.93it/s]\u001b[A\n",
      "Convert dataset:   4%|▍         | 4454/100000 [00:01<00:30, 3151.94it/s]\u001b[A\n",
      "Convert dataset:   5%|▍         | 4769/100000 [00:01<00:30, 3075.18it/s]\u001b[A\n",
      "Convert dataset:   5%|▌         | 5077/100000 [00:01<00:31, 3022.09it/s]\u001b[A\n",
      "Convert dataset:   5%|▌         | 5380/100000 [00:01<00:32, 2924.16it/s]\u001b[A\n",
      "Convert dataset:   6%|▌         | 5683/100000 [00:01<00:31, 2954.97it/s]\u001b[A\n",
      "Convert dataset:   6%|▌         | 5980/100000 [00:01<00:32, 2886.20it/s]\u001b[A\n",
      "Convert dataset:   6%|▋         | 6272/100000 [00:02<00:32, 2896.04it/s]\u001b[A\n",
      "Convert dataset:   7%|▋         | 6596/100000 [00:02<00:31, 2989.78it/s]\u001b[A\n",
      "Convert dataset:   7%|▋         | 6897/100000 [00:02<00:31, 2982.40it/s]\u001b[A\n",
      "Convert dataset:   7%|▋         | 7228/100000 [00:02<00:30, 3073.65it/s]\u001b[A\n",
      "Convert dataset:   8%|▊         | 7564/100000 [00:02<00:29, 3151.54it/s]\u001b[A\n",
      "Convert dataset:   8%|▊         | 7881/100000 [00:02<00:29, 3080.51it/s]\u001b[A\n",
      "Convert dataset:   8%|▊         | 8191/100000 [00:02<00:29, 3082.19it/s]\u001b[A\n",
      "Convert dataset:   9%|▊         | 8518/100000 [00:02<00:29, 3136.18it/s]\u001b[A\n",
      "Convert dataset:   9%|▉         | 8844/100000 [00:02<00:28, 3172.31it/s]\u001b[A\n",
      "Convert dataset:   9%|▉         | 9162/100000 [00:02<00:29, 3065.97it/s]\u001b[A\n",
      "Convert dataset:   9%|▉         | 9470/100000 [00:03<00:29, 3065.44it/s]\u001b[A\n",
      "Convert dataset:  10%|▉         | 9778/100000 [00:03<00:29, 3067.79it/s]\u001b[A\n",
      "Convert dataset:  10%|█         | 10086/100000 [00:03<00:29, 3042.98it/s]\u001b[A\n",
      "Convert dataset:  10%|█         | 10391/100000 [00:03<00:29, 3037.71it/s]\u001b[A\n",
      "Convert dataset:  11%|█         | 10696/100000 [00:03<00:29, 2988.26it/s]\u001b[A\n",
      "Convert dataset:  11%|█         | 11026/100000 [00:03<00:28, 3074.20it/s]\u001b[A\n",
      "Convert dataset:  11%|█▏        | 11354/100000 [00:03<00:28, 3132.85it/s]\u001b[A\n",
      "Convert dataset:  12%|█▏        | 11669/100000 [00:03<00:29, 2979.82it/s]\u001b[A\n",
      "Convert dataset:  12%|█▏        | 11970/100000 [00:03<00:30, 2843.48it/s]\u001b[A\n",
      "Convert dataset:  12%|█▏        | 12288/100000 [00:04<00:29, 2935.81it/s]\u001b[A\n",
      "Convert dataset:  13%|█▎        | 12605/100000 [00:04<00:29, 2999.89it/s]\u001b[A\n",
      "Convert dataset:  13%|█▎        | 12924/100000 [00:04<00:28, 3053.78it/s]\u001b[A\n",
      "Convert dataset:  13%|█▎        | 13232/100000 [00:04<00:28, 3017.05it/s]\u001b[A\n",
      "Convert dataset:  14%|█▎        | 13544/100000 [00:04<00:28, 3043.12it/s]\u001b[A\n",
      "Convert dataset:  14%|█▍        | 13850/100000 [00:04<00:28, 3008.40it/s]\u001b[A\n",
      "Convert dataset:  14%|█▍        | 14152/100000 [00:04<00:28, 2965.64it/s]\u001b[A\n",
      "Convert dataset:  14%|█▍        | 14461/100000 [00:04<00:28, 2999.35it/s]\u001b[A\n",
      "Convert dataset:  15%|█▍        | 14762/100000 [00:04<00:28, 2990.17it/s]\u001b[A\n",
      "Convert dataset:  15%|█▌        | 15062/100000 [00:04<00:28, 2986.47it/s]\u001b[A\n",
      "Convert dataset:  15%|█▌        | 15361/100000 [00:05<00:28, 2937.44it/s]\u001b[A\n",
      "Convert dataset:  16%|█▌        | 15656/100000 [00:05<00:28, 2930.34it/s]\u001b[A\n",
      "Convert dataset:  16%|█▌        | 15950/100000 [00:05<00:29, 2835.99it/s]\u001b[A\n",
      "Convert dataset:  16%|█▌        | 16237/100000 [00:05<00:29, 2845.51it/s]\u001b[A\n",
      "Convert dataset:  17%|█▋        | 16543/100000 [00:05<00:28, 2903.31it/s]\u001b[A\n",
      "Convert dataset:  17%|█▋        | 16841/100000 [00:05<00:28, 2925.39it/s]\u001b[A\n",
      "Convert dataset:  17%|█▋        | 17139/100000 [00:05<00:28, 2938.43it/s]\u001b[A\n",
      "Convert dataset:  17%|█▋        | 17434/100000 [00:05<00:29, 2846.07it/s]\u001b[A\n",
      "Convert dataset:  18%|█▊        | 17785/100000 [00:05<00:27, 3016.27it/s]\u001b[A\n",
      "Convert dataset:  18%|█▊        | 18093/100000 [00:05<00:26, 3033.95it/s]\u001b[A\n",
      "Convert dataset:  18%|█▊        | 18399/100000 [00:06<00:28, 2905.68it/s]\u001b[A\n",
      "Convert dataset:  19%|█▊        | 18693/100000 [00:06<00:30, 2661.92it/s]\u001b[A\n",
      "Convert dataset:  19%|█▉        | 19015/100000 [00:06<00:28, 2807.33it/s]\u001b[A\n",
      "Convert dataset:  19%|█▉        | 19367/100000 [00:06<00:26, 2986.77it/s]\u001b[A\n",
      "Convert dataset:  20%|█▉        | 19694/100000 [00:06<00:26, 3064.46it/s]\u001b[A\n",
      "Convert dataset:  20%|██        | 20024/100000 [00:06<00:25, 3131.35it/s]\u001b[A\n",
      "Convert dataset:  20%|██        | 20342/100000 [00:06<00:26, 3062.65it/s]\u001b[A\n",
      "Convert dataset:  21%|██        | 20652/100000 [00:06<00:26, 3026.28it/s]\u001b[A\n",
      "Convert dataset:  21%|██        | 20958/100000 [00:06<00:27, 2915.62it/s]\u001b[A\n",
      "Convert dataset:  21%|██▏       | 21255/100000 [00:07<00:26, 2931.20it/s]\u001b[A\n",
      "Convert dataset:  22%|██▏       | 21550/100000 [00:07<00:26, 2909.90it/s]\u001b[A\n",
      "Convert dataset:  22%|██▏       | 21849/100000 [00:07<00:26, 2932.58it/s]\u001b[A\n",
      "Convert dataset:  22%|██▏       | 22209/100000 [00:07<00:25, 3104.86it/s]\u001b[A\n",
      "Convert dataset:  23%|██▎       | 22523/100000 [00:07<00:25, 3034.46it/s]\u001b[A\n",
      "Convert dataset:  23%|██▎       | 22830/100000 [00:07<00:26, 2961.33it/s]\u001b[A\n",
      "Convert dataset:  23%|██▎       | 23196/100000 [00:07<00:24, 3140.01it/s]\u001b[A\n",
      "Convert dataset:  24%|██▎       | 23515/100000 [00:07<00:24, 3140.49it/s]\u001b[A\n",
      "Convert dataset:  24%|██▍       | 23833/100000 [00:07<00:25, 2995.14it/s]\u001b[A\n",
      "Convert dataset:  24%|██▍       | 24171/100000 [00:07<00:24, 3100.09it/s]\u001b[A\n",
      "Convert dataset:  25%|██▍       | 24506/100000 [00:08<00:23, 3168.18it/s]\u001b[A\n",
      "Convert dataset:  25%|██▍       | 24848/100000 [00:08<00:23, 3237.52it/s]\u001b[A\n",
      "Convert dataset:  25%|██▌       | 25175/100000 [00:08<00:23, 3155.30it/s]\u001b[A\n",
      "Convert dataset:  26%|██▌       | 25517/100000 [00:08<00:23, 3227.12it/s]\u001b[A\n",
      "Convert dataset:  26%|██▌       | 25842/100000 [00:08<00:23, 3216.91it/s]\u001b[A\n",
      "Convert dataset:  26%|██▌       | 26166/100000 [00:08<00:23, 3184.50it/s]\u001b[A\n",
      "Convert dataset:  26%|██▋       | 26487/100000 [00:08<00:23, 3191.93it/s]\u001b[A\n",
      "Convert dataset:  27%|██▋       | 26808/100000 [00:08<00:22, 3196.32it/s]\u001b[A\n",
      "Convert dataset:  27%|██▋       | 27129/100000 [00:08<00:24, 2992.67it/s]\u001b[A\n",
      "Convert dataset:  27%|██▋       | 27477/100000 [00:09<00:23, 3122.19it/s]\u001b[A\n",
      "Convert dataset:  28%|██▊       | 27793/100000 [00:09<00:23, 3027.98it/s]\u001b[A\n",
      "Convert dataset:  28%|██▊       | 28099/100000 [00:09<00:24, 2949.50it/s]\u001b[A\n",
      "Convert dataset:  28%|██▊       | 28414/100000 [00:09<00:23, 3005.58it/s]\u001b[A\n",
      "Convert dataset:  29%|██▊       | 28717/100000 [00:09<00:25, 2834.95it/s]\u001b[A\n",
      "Convert dataset:  29%|██▉       | 29004/100000 [00:09<00:25, 2766.29it/s]\u001b[A\n",
      "Convert dataset:  29%|██▉       | 29284/100000 [00:09<00:25, 2723.63it/s]\u001b[A\n",
      "Convert dataset:  30%|██▉       | 29559/100000 [00:09<00:25, 2718.11it/s]\u001b[A\n",
      "Convert dataset:  30%|██▉       | 29855/100000 [00:09<00:25, 2784.88it/s]\u001b[A\n",
      "Convert dataset:  30%|███       | 30202/100000 [00:09<00:23, 2960.02it/s]\u001b[A\n",
      "Convert dataset:  31%|███       | 30503/100000 [00:10<00:23, 2910.91it/s]\u001b[A\n",
      "Convert dataset:  31%|███       | 30802/100000 [00:10<00:23, 2933.54it/s]\u001b[A\n",
      "Convert dataset:  31%|███       | 31115/100000 [00:10<00:23, 2988.60it/s]\u001b[A\n",
      "Convert dataset:  31%|███▏      | 31425/100000 [00:10<00:22, 3019.82it/s]\u001b[A\n",
      "Convert dataset:  32%|███▏      | 31729/100000 [00:10<00:23, 2961.42it/s]\u001b[A\n",
      "Convert dataset:  32%|███▏      | 32027/100000 [00:10<00:24, 2831.44it/s]\u001b[A\n",
      "Convert dataset:  32%|███▏      | 32339/100000 [00:10<00:23, 2910.02it/s]\u001b[A\n",
      "Convert dataset:  33%|███▎      | 32642/100000 [00:10<00:22, 2943.24it/s]\u001b[A\n",
      "Convert dataset:  33%|███▎      | 32938/100000 [00:10<00:23, 2915.57it/s]\u001b[A\n",
      "Convert dataset:  33%|███▎      | 33232/100000 [00:11<00:22, 2922.03it/s]\u001b[A\n"
     ]
    },
    {
     "name": "stderr",
     "output_type": "stream",
     "text": [
      "Convert dataset:  34%|███▎      | 33525/100000 [00:11<00:22, 2894.33it/s]\u001b[A\n",
      "Convert dataset:  34%|███▍      | 33823/100000 [00:11<00:22, 2916.87it/s]\u001b[A\n",
      "Convert dataset:  34%|███▍      | 34120/100000 [00:11<00:22, 2931.30it/s]\u001b[A\n",
      "Convert dataset:  34%|███▍      | 34414/100000 [00:11<00:25, 2600.77it/s]\u001b[A\n",
      "Convert dataset:  35%|███▍      | 34682/100000 [00:11<00:26, 2473.61it/s]\u001b[A\n",
      "Convert dataset:  35%|███▍      | 34973/100000 [00:11<00:25, 2588.81it/s]\u001b[A\n",
      "Convert dataset:  35%|███▌      | 35269/100000 [00:11<00:24, 2688.18it/s]\u001b[A\n",
      "Convert dataset:  36%|███▌      | 35543/100000 [00:11<00:23, 2702.71it/s]\u001b[A\n",
      "Convert dataset:  36%|███▌      | 35817/100000 [00:12<00:25, 2563.92it/s]\u001b[A\n",
      "Convert dataset:  36%|███▌      | 36144/100000 [00:12<00:23, 2740.66it/s]\u001b[A\n",
      "Convert dataset:  36%|███▋      | 36425/100000 [00:12<00:23, 2712.01it/s]\u001b[A\n",
      "Convert dataset:  37%|███▋      | 36706/100000 [00:12<00:23, 2740.63it/s]\u001b[A\n",
      "Convert dataset:  37%|███▋      | 37014/100000 [00:12<00:22, 2832.15it/s]\u001b[A\n",
      "Convert dataset:  37%|███▋      | 37340/100000 [00:12<00:21, 2946.84it/s]\u001b[A\n",
      "Convert dataset:  38%|███▊      | 37676/100000 [00:12<00:20, 3058.81it/s]\u001b[A\n",
      "Convert dataset:  38%|███▊      | 37986/100000 [00:12<00:20, 3066.00it/s]\u001b[A\n",
      "Convert dataset:  38%|███▊      | 38295/100000 [00:12<00:20, 3066.69it/s]\u001b[A\n",
      "Convert dataset:  39%|███▊      | 38604/100000 [00:12<00:20, 2928.51it/s]\u001b[A\n",
      "Convert dataset:  39%|███▉      | 38921/100000 [00:13<00:20, 2996.67it/s]\u001b[A\n",
      "Convert dataset:  39%|███▉      | 39237/100000 [00:13<00:19, 3042.03it/s]\u001b[A\n",
      "Convert dataset:  40%|███▉      | 39629/100000 [00:13<00:18, 3260.59it/s]\u001b[A\n",
      "Convert dataset:  40%|███▉      | 39961/100000 [00:13<00:18, 3195.86it/s]\u001b[A\n",
      "Convert dataset:  40%|████      | 40338/100000 [00:13<00:17, 3348.58it/s]\u001b[A\n",
      "Convert dataset:  41%|████      | 40678/100000 [00:13<00:17, 3337.01it/s]\u001b[A\n",
      "Convert dataset:  41%|████      | 41019/100000 [00:13<00:17, 3357.24it/s]\u001b[A\n",
      "Convert dataset:  41%|████▏     | 41358/100000 [00:13<00:18, 3186.13it/s]\u001b[A\n",
      "Convert dataset:  42%|████▏     | 41727/100000 [00:13<00:17, 3321.18it/s]\u001b[A\n",
      "Convert dataset:  42%|████▏     | 42064/100000 [00:13<00:17, 3286.76it/s]\u001b[A\n",
      "Convert dataset:  42%|████▏     | 42417/100000 [00:14<00:17, 3353.67it/s]\u001b[A\n",
      "Convert dataset:  43%|████▎     | 42755/100000 [00:14<00:17, 3257.62it/s]\u001b[A\n",
      "Convert dataset:  43%|████▎     | 43083/100000 [00:14<00:17, 3194.98it/s]\u001b[A\n",
      "Convert dataset:  43%|████▎     | 43405/100000 [00:14<00:18, 3098.34it/s]\u001b[A\n",
      "Convert dataset:  44%|████▎     | 43717/100000 [00:14<00:18, 3050.80it/s]\u001b[A\n",
      "Convert dataset:  44%|████▍     | 44024/100000 [00:14<00:19, 2923.95it/s]\u001b[A\n",
      "Convert dataset:  44%|████▍     | 44319/100000 [00:14<00:19, 2924.59it/s]\u001b[A\n",
      "Convert dataset:  45%|████▍     | 44613/100000 [00:14<00:18, 2920.75it/s]\u001b[A\n",
      "Convert dataset:  45%|████▍     | 44907/100000 [00:14<00:19, 2898.71it/s]\u001b[A\n",
      "Convert dataset:  45%|████▌     | 45214/100000 [00:15<00:18, 2947.40it/s]\u001b[A\n",
      "Convert dataset:  46%|████▌     | 45512/100000 [00:15<00:18, 2955.51it/s]\u001b[A\n",
      "Convert dataset:  46%|████▌     | 45823/100000 [00:15<00:18, 2998.26it/s]\u001b[A\n",
      "Convert dataset:  46%|████▌     | 46141/100000 [00:15<00:17, 3048.59it/s]\u001b[A\n",
      "Convert dataset:  46%|████▋     | 46447/100000 [00:15<00:18, 2971.75it/s]\u001b[A\n",
      "Convert dataset:  47%|████▋     | 46790/100000 [00:15<00:17, 3094.52it/s]\u001b[A\n",
      "Convert dataset:  47%|████▋     | 47128/100000 [00:15<00:16, 3174.08it/s]\u001b[A\n",
      "Convert dataset:  47%|████▋     | 47469/100000 [00:15<00:16, 3240.36it/s]\u001b[A\n",
      "Convert dataset:  48%|████▊     | 47835/100000 [00:15<00:15, 3355.45it/s]\u001b[A\n",
      "Convert dataset:  48%|████▊     | 48173/100000 [00:15<00:15, 3270.31it/s]\u001b[A\n",
      "Convert dataset:  49%|████▊     | 48503/100000 [00:16<00:16, 3178.33it/s]\u001b[A\n",
      "Convert dataset:  49%|████▉     | 48835/100000 [00:16<00:15, 3218.33it/s]\u001b[A\n",
      "Convert dataset:  49%|████▉     | 49177/100000 [00:16<00:15, 3276.08it/s]\u001b[A\n",
      "Convert dataset:  50%|████▉     | 49506/100000 [00:16<00:15, 3220.01it/s]\u001b[A\n",
      "Convert dataset:  50%|████▉     | 49830/100000 [00:16<00:15, 3197.86it/s]\u001b[A\n",
      "Convert dataset:  50%|█████     | 50151/100000 [00:16<00:15, 3184.40it/s]\u001b[A\n",
      "Convert dataset:  51%|█████     | 50506/100000 [00:16<00:15, 3285.65it/s]\u001b[A\n",
      "Convert dataset:  51%|█████     | 50840/100000 [00:16<00:14, 3301.37it/s]\u001b[A\n",
      "Convert dataset:  51%|█████     | 51179/100000 [00:16<00:14, 3327.30it/s]\u001b[A\n",
      "Convert dataset:  52%|█████▏    | 51513/100000 [00:16<00:14, 3281.37it/s]\u001b[A\n",
      "Convert dataset:  52%|█████▏    | 51862/100000 [00:17<00:14, 3340.84it/s]\u001b[A\n",
      "Convert dataset:  52%|█████▏    | 52222/100000 [00:17<00:14, 3412.09it/s]\u001b[A\n",
      "Convert dataset:  53%|█████▎    | 52589/100000 [00:17<00:13, 3484.27it/s]\u001b[A\n",
      "Convert dataset:  53%|█████▎    | 52939/100000 [00:17<00:13, 3447.47it/s]\u001b[A\n",
      "Convert dataset:  53%|█████▎    | 53285/100000 [00:17<00:13, 3419.67it/s]\u001b[A\n",
      "Convert dataset:  54%|█████▎    | 53628/100000 [00:17<00:13, 3329.48it/s]\u001b[A\n",
      "Convert dataset:  54%|█████▍    | 53962/100000 [00:17<00:14, 3114.51it/s]\u001b[A\n",
      "Convert dataset:  54%|█████▍    | 54284/100000 [00:17<00:14, 3145.06it/s]\u001b[A\n",
      "Convert dataset:  55%|█████▍    | 54638/100000 [00:17<00:13, 3252.36it/s]\u001b[A\n",
      "Convert dataset:  55%|█████▌    | 55013/100000 [00:18<00:13, 3386.99it/s]\u001b[A\n",
      "Convert dataset:  55%|█████▌    | 55356/100000 [00:18<00:13, 3271.66it/s]\u001b[A\n",
      "Convert dataset:  56%|█████▌    | 55687/100000 [00:18<00:13, 3193.37it/s]\u001b[A\n",
      "Convert dataset:  56%|█████▌    | 56009/100000 [00:18<00:13, 3166.19it/s]\u001b[A\n",
      "Convert dataset:  56%|█████▋    | 56328/100000 [00:18<00:14, 3106.13it/s]\u001b[A\n",
      "Convert dataset:  57%|█████▋    | 56641/100000 [00:18<00:14, 3014.02it/s]\u001b[A\n",
      "Convert dataset:  57%|█████▋    | 56945/100000 [00:18<00:15, 2773.58it/s]\u001b[A\n",
      "Convert dataset:  57%|█████▋    | 57228/100000 [00:18<00:16, 2532.34it/s]\u001b[A\n",
      "Convert dataset:  57%|█████▋    | 57489/100000 [00:18<00:16, 2520.94it/s]\u001b[A\n",
      "Convert dataset:  58%|█████▊    | 57810/100000 [00:19<00:15, 2694.44it/s]\u001b[A\n",
      "Convert dataset:  58%|█████▊    | 58087/100000 [00:19<00:16, 2606.54it/s]\u001b[A\n",
      "Convert dataset:  58%|█████▊    | 58383/100000 [00:19<00:15, 2700.85it/s]\u001b[A\n",
      "Convert dataset:  59%|█████▊    | 58658/100000 [00:19<00:15, 2663.67it/s]\u001b[A\n",
      "Convert dataset:  59%|█████▉    | 58940/100000 [00:19<00:15, 2707.31it/s]\u001b[A\n",
      "Convert dataset:  59%|█████▉    | 59242/100000 [00:19<00:14, 2793.29it/s]\u001b[A\n",
      "Convert dataset:  60%|█████▉    | 59536/100000 [00:19<00:14, 2835.02it/s]\u001b[A\n",
      "Convert dataset:  60%|█████▉    | 59822/100000 [00:19<00:14, 2811.71it/s]\u001b[A\n",
      "Convert dataset:  60%|██████    | 60127/100000 [00:19<00:13, 2876.66it/s]\u001b[A\n",
      "Convert dataset:  60%|██████    | 60416/100000 [00:19<00:14, 2813.69it/s]\u001b[A\n",
      "Convert dataset:  61%|██████    | 60699/100000 [00:20<00:14, 2761.30it/s]\u001b[A\n",
      "Convert dataset:  61%|██████    | 60983/100000 [00:20<00:14, 2783.54it/s]\u001b[A\n",
      "Convert dataset:  61%|██████▏   | 61263/100000 [00:20<00:14, 2755.60it/s]\u001b[A\n",
      "Convert dataset:  62%|██████▏   | 61540/100000 [00:20<00:14, 2691.43it/s]\u001b[A\n",
      "Convert dataset:  62%|██████▏   | 61874/100000 [00:20<00:13, 2856.73it/s]\u001b[A\n",
      "Convert dataset:  62%|██████▏   | 62181/100000 [00:20<00:12, 2916.05it/s]\u001b[A\n",
      "Convert dataset:  62%|██████▏   | 62477/100000 [00:20<00:12, 2928.65it/s]\u001b[A\n",
      "Convert dataset:  63%|██████▎   | 62783/100000 [00:20<00:12, 2966.47it/s]\u001b[A\n",
      "Convert dataset:  63%|██████▎   | 63136/100000 [00:20<00:11, 3112.79it/s]\u001b[A\n",
      "Convert dataset:  63%|██████▎   | 63451/100000 [00:20<00:11, 3077.83it/s]\u001b[A\n",
      "Convert dataset:  64%|██████▍   | 63761/100000 [00:21<00:12, 3011.89it/s]\u001b[A\n",
      "Convert dataset:  64%|██████▍   | 64074/100000 [00:21<00:11, 3044.37it/s]\u001b[A\n",
      "Convert dataset:  64%|██████▍   | 64380/100000 [00:21<00:11, 3024.89it/s]\u001b[A\n",
      "Convert dataset:  65%|██████▍   | 64684/100000 [00:21<00:11, 3022.99it/s]\u001b[A\n",
      "Convert dataset:  65%|██████▍   | 64987/100000 [00:21<00:11, 2981.49it/s]\u001b[A\n",
      "Convert dataset:  65%|██████▌   | 65286/100000 [00:21<00:11, 2927.38it/s]\u001b[A\n",
      "Convert dataset:  66%|██████▌   | 65591/100000 [00:21<00:11, 2961.60it/s]\u001b[A\n",
      "Convert dataset:  66%|██████▌   | 65928/100000 [00:21<00:11, 3073.20it/s]\u001b[A\n",
      "Convert dataset:  66%|██████▋   | 66252/100000 [00:21<00:10, 3120.77it/s]\u001b[A\n",
      "Convert dataset:  67%|██████▋   | 66566/100000 [00:22<00:11, 2988.48it/s]\u001b[A\n",
      "Convert dataset:  67%|██████▋   | 66867/100000 [00:22<00:11, 2917.87it/s]\u001b[A\n"
     ]
    },
    {
     "name": "stderr",
     "output_type": "stream",
     "text": [
      "Convert dataset:  67%|██████▋   | 67175/100000 [00:22<00:11, 2964.13it/s]\u001b[A\n",
      "Convert dataset:  67%|██████▋   | 67473/100000 [00:22<00:10, 2967.80it/s]\u001b[A\n",
      "Convert dataset:  68%|██████▊   | 67771/100000 [00:22<00:10, 2956.05it/s]\u001b[A\n",
      "Convert dataset:  68%|██████▊   | 68094/100000 [00:22<00:10, 3032.36it/s]\u001b[A\n",
      "Convert dataset:  68%|██████▊   | 68418/100000 [00:22<00:10, 3091.25it/s]\u001b[A\n",
      "Convert dataset:  69%|██████▊   | 68729/100000 [00:22<00:10, 3052.84it/s]\u001b[A\n",
      "Convert dataset:  69%|██████▉   | 69061/100000 [00:22<00:09, 3125.59it/s]\u001b[A\n",
      "Convert dataset:  69%|██████▉   | 69375/100000 [00:22<00:10, 3015.35it/s]\u001b[A\n",
      "Convert dataset:  70%|██████▉   | 69681/100000 [00:23<00:10, 3027.04it/s]\u001b[A\n",
      "Convert dataset:  70%|███████   | 70021/100000 [00:23<00:09, 3129.36it/s]\u001b[A\n",
      "Convert dataset:  70%|███████   | 70353/100000 [00:23<00:09, 3184.00it/s]\u001b[A\n",
      "Convert dataset:  71%|███████   | 70673/100000 [00:23<00:09, 3180.66it/s]\u001b[A\n",
      "Convert dataset:  71%|███████   | 70993/100000 [00:23<00:09, 3119.11it/s]\u001b[A\n",
      "Convert dataset:  71%|███████▏  | 71311/100000 [00:23<00:09, 3136.79it/s]\u001b[A\n",
      "Convert dataset:  72%|███████▏  | 71626/100000 [00:23<00:09, 3132.71it/s]\u001b[A\n",
      "Convert dataset:  72%|███████▏  | 71940/100000 [00:23<00:10, 2791.38it/s]\u001b[A\n",
      "Convert dataset:  72%|███████▏  | 72227/100000 [00:23<00:10, 2669.38it/s]\u001b[A\n",
      "Convert dataset:  73%|███████▎  | 72501/100000 [00:24<00:10, 2520.51it/s]\u001b[A\n",
      "Convert dataset:  73%|███████▎  | 72826/100000 [00:24<00:10, 2702.03it/s]\u001b[A\n",
      "Convert dataset:  73%|███████▎  | 73116/100000 [00:24<00:09, 2755.59it/s]\u001b[A\n",
      "Convert dataset:  73%|███████▎  | 73398/100000 [00:24<00:09, 2739.79it/s]\u001b[A\n",
      "Convert dataset:  74%|███████▎  | 73719/100000 [00:24<00:09, 2864.77it/s]\u001b[A\n",
      "Convert dataset:  74%|███████▍  | 74017/100000 [00:24<00:08, 2896.36it/s]\u001b[A\n",
      "Convert dataset:  74%|███████▍  | 74310/100000 [00:24<00:09, 2843.80it/s]\u001b[A\n",
      "Convert dataset:  75%|███████▍  | 74597/100000 [00:24<00:09, 2789.69it/s]\u001b[A\n",
      "Convert dataset:  75%|███████▍  | 74878/100000 [00:24<00:09, 2595.15it/s]\u001b[A\n",
      "Convert dataset:  75%|███████▌  | 75210/100000 [00:24<00:08, 2776.96it/s]\u001b[A\n",
      "Convert dataset:  75%|███████▌  | 75495/100000 [00:25<00:08, 2784.27it/s]\u001b[A\n",
      "Convert dataset:  76%|███████▌  | 75828/100000 [00:25<00:08, 2927.38it/s]\u001b[A\n",
      "Convert dataset:  76%|███████▌  | 76126/100000 [00:25<00:08, 2911.11it/s]\u001b[A\n",
      "Convert dataset:  76%|███████▋  | 76441/100000 [00:25<00:07, 2978.73it/s]\u001b[A\n",
      "Convert dataset:  77%|███████▋  | 76742/100000 [00:25<00:07, 2945.50it/s]\u001b[A\n",
      "Convert dataset:  77%|███████▋  | 77053/100000 [00:25<00:07, 2989.13it/s]\u001b[A\n",
      "Convert dataset:  77%|███████▋  | 77354/100000 [00:25<00:07, 2884.99it/s]\u001b[A\n",
      "Convert dataset:  78%|███████▊  | 77646/100000 [00:25<00:07, 2890.55it/s]\u001b[A\n",
      "Convert dataset:  78%|███████▊  | 77937/100000 [00:25<00:07, 2825.33it/s]\u001b[A\n",
      "Convert dataset:  78%|███████▊  | 78221/100000 [00:26<00:07, 2783.21it/s]\u001b[A\n",
      "Convert dataset:  79%|███████▊  | 78519/100000 [00:26<00:07, 2838.86it/s]\u001b[A\n",
      "Convert dataset:  79%|███████▉  | 78845/100000 [00:26<00:07, 2951.31it/s]\u001b[A\n",
      "Convert dataset:  79%|███████▉  | 79142/100000 [00:26<00:07, 2826.63it/s]\u001b[A\n",
      "Convert dataset:  79%|███████▉  | 79444/100000 [00:26<00:07, 2881.66it/s]\u001b[A\n",
      "Convert dataset:  80%|███████▉  | 79779/100000 [00:26<00:06, 3006.32it/s]\u001b[A\n",
      "Convert dataset:  80%|████████  | 80151/100000 [00:26<00:06, 3188.74it/s]\u001b[A\n",
      "Convert dataset:  80%|████████  | 80475/100000 [00:26<00:06, 3146.76it/s]\u001b[A\n",
      "Convert dataset:  81%|████████  | 80794/100000 [00:26<00:06, 3034.67it/s]\u001b[A\n",
      "Convert dataset:  81%|████████  | 81101/100000 [00:26<00:06, 3001.07it/s]\u001b[A\n",
      "Convert dataset:  81%|████████▏ | 81405/100000 [00:27<00:06, 3011.76it/s]\u001b[A\n",
      "Convert dataset:  82%|████████▏ | 81708/100000 [00:27<00:06, 2976.61it/s]\u001b[A\n",
      "Convert dataset:  82%|████████▏ | 82007/100000 [00:27<00:06, 2926.28it/s]\u001b[A\n",
      "Convert dataset:  82%|████████▏ | 82308/100000 [00:27<00:05, 2949.94it/s]\u001b[A\n",
      "Convert dataset:  83%|████████▎ | 82605/100000 [00:27<00:05, 2952.98it/s]\u001b[A\n",
      "Convert dataset:  83%|████████▎ | 82913/100000 [00:27<00:05, 2987.94it/s]\u001b[A\n",
      "Convert dataset:  83%|████████▎ | 83213/100000 [00:27<00:05, 2808.60it/s]\u001b[A\n",
      "Convert dataset:  83%|████████▎ | 83497/100000 [00:27<00:06, 2727.56it/s]\u001b[A\n",
      "Convert dataset:  84%|████████▍ | 83773/100000 [00:27<00:05, 2721.52it/s]\u001b[A\n",
      "Convert dataset:  84%|████████▍ | 84107/100000 [00:28<00:05, 2880.02it/s]\u001b[A\n",
      "Convert dataset:  84%|████████▍ | 84407/100000 [00:28<00:05, 2914.03it/s]\u001b[A\n",
      "Convert dataset:  85%|████████▍ | 84702/100000 [00:28<00:05, 2890.60it/s]\u001b[A\n",
      "Convert dataset:  85%|████████▌ | 85022/100000 [00:28<00:05, 2975.69it/s]\u001b[A\n",
      "Convert dataset:  85%|████████▌ | 85322/100000 [00:28<00:05, 2885.28it/s]\u001b[A\n",
      "Convert dataset:  86%|████████▌ | 85613/100000 [00:28<00:05, 2781.80it/s]\u001b[A\n",
      "Convert dataset:  86%|████████▌ | 85932/100000 [00:28<00:04, 2892.20it/s]\u001b[A\n",
      "Convert dataset:  86%|████████▌ | 86224/100000 [00:28<00:04, 2876.26it/s]\u001b[A\n",
      "Convert dataset:  87%|████████▋ | 86514/100000 [00:28<00:04, 2846.03it/s]\u001b[A\n",
      "Convert dataset:  87%|████████▋ | 86800/100000 [00:28<00:04, 2766.89it/s]\u001b[A\n",
      "Convert dataset:  87%|████████▋ | 87103/100000 [00:29<00:04, 2840.64it/s]\u001b[A\n",
      "Convert dataset:  87%|████████▋ | 87434/100000 [00:29<00:04, 2965.71it/s]\u001b[A\n",
      "Convert dataset:  88%|████████▊ | 87737/100000 [00:29<00:04, 2983.96it/s]\u001b[A\n",
      "Convert dataset:  88%|████████▊ | 88073/100000 [00:29<00:03, 3087.41it/s]\u001b[A\n",
      "Convert dataset:  88%|████████▊ | 88384/100000 [00:29<00:03, 3065.22it/s]\u001b[A\n",
      "Convert dataset:  89%|████████▊ | 88693/100000 [00:29<00:03, 3031.20it/s]\u001b[A\n",
      "Convert dataset:  89%|████████▉ | 88998/100000 [00:29<00:03, 3023.76it/s]\u001b[A\n",
      "Convert dataset:  89%|████████▉ | 89302/100000 [00:29<00:03, 2969.24it/s]\u001b[A\n",
      "Convert dataset:  90%|████████▉ | 89600/100000 [00:29<00:03, 2969.60it/s]\u001b[A\n",
      "Convert dataset:  90%|████████▉ | 89898/100000 [00:30<00:03, 2784.06it/s]\u001b[A\n",
      "Convert dataset:  90%|█████████ | 90180/100000 [00:30<00:06, 1522.91it/s]\u001b[A\n",
      "Convert dataset:  90%|█████████ | 90418/100000 [00:30<00:05, 1706.24it/s]\u001b[A\n",
      "Convert dataset:  91%|█████████ | 90705/100000 [00:30<00:04, 1941.22it/s]\u001b[A\n",
      "Convert dataset:  91%|█████████ | 91008/100000 [00:30<00:04, 2174.43it/s]\u001b[A\n",
      "Convert dataset:  91%|█████████▏| 91269/100000 [00:30<00:03, 2247.37it/s]\u001b[A\n",
      "Convert dataset:  92%|█████████▏| 91575/100000 [00:30<00:03, 2440.95it/s]\u001b[A\n",
      "Convert dataset:  92%|█████████▏| 91861/100000 [00:30<00:03, 2551.74it/s]\u001b[A\n",
      "Convert dataset:  92%|█████████▏| 92137/100000 [00:31<00:03, 2544.67it/s]\u001b[A\n",
      "Convert dataset:  92%|█████████▏| 92408/100000 [00:31<00:02, 2591.53it/s]\u001b[A\n",
      "Convert dataset:  93%|█████████▎| 92699/100000 [00:31<00:02, 2675.62it/s]\u001b[A\n",
      "Convert dataset:  93%|█████████▎| 92975/100000 [00:31<00:02, 2691.72it/s]\u001b[A\n",
      "Convert dataset:  93%|█████████▎| 93276/100000 [00:31<00:02, 2777.83it/s]\u001b[A\n",
      "Convert dataset:  94%|█████████▎| 93581/100000 [00:31<00:02, 2854.08it/s]\u001b[A\n",
      "Convert dataset:  94%|█████████▍| 93880/100000 [00:31<00:02, 2891.35it/s]\u001b[A\n",
      "Convert dataset:  94%|█████████▍| 94172/100000 [00:31<00:02, 2811.22it/s]\u001b[A\n",
      "Convert dataset:  94%|█████████▍| 94464/100000 [00:31<00:01, 2842.72it/s]\u001b[A\n",
      "Convert dataset:  95%|█████████▍| 94751/100000 [00:32<00:01, 2762.46it/s]\u001b[A\n",
      "Convert dataset:  95%|█████████▌| 95029/100000 [00:32<00:02, 2334.64it/s]\u001b[A\n",
      "Convert dataset:  95%|█████████▌| 95307/100000 [00:32<00:01, 2452.22it/s]\u001b[A\n",
      "Convert dataset:  96%|█████████▌| 95563/100000 [00:32<00:01, 2429.27it/s]\u001b[A\n",
      "Convert dataset:  96%|█████████▌| 95859/100000 [00:32<00:01, 2565.86it/s]\u001b[A\n",
      "Convert dataset:  96%|█████████▌| 96144/100000 [00:32<00:01, 2643.71it/s]\u001b[A\n",
      "Convert dataset:  96%|█████████▋| 96414/100000 [00:32<00:01, 2568.81it/s]\u001b[A\n",
      "Convert dataset:  97%|█████████▋| 96682/100000 [00:32<00:01, 2601.14it/s]\u001b[A\n",
      "Convert dataset:  97%|█████████▋| 96946/100000 [00:32<00:01, 2584.61it/s]\u001b[A\n",
      "Convert dataset:  97%|█████████▋| 97207/100000 [00:33<00:01, 2572.83it/s]\u001b[A\n",
      "Convert dataset:  97%|█████████▋| 97486/100000 [00:33<00:00, 2632.77it/s]\u001b[A\n",
      "Convert dataset:  98%|█████████▊| 97807/100000 [00:33<00:00, 2781.49it/s]\u001b[A\n",
      "Convert dataset:  98%|█████████▊| 98092/100000 [00:33<00:00, 2798.84it/s]\u001b[A\n",
      "Convert dataset:  98%|█████████▊| 98375/100000 [00:33<00:00, 2764.95it/s]\u001b[A\n",
      "Convert dataset:  99%|█████████▊| 98662/100000 [00:33<00:00, 2795.37it/s]\u001b[A\n"
     ]
    },
    {
     "name": "stderr",
     "output_type": "stream",
     "text": [
      "Convert dataset:  99%|█████████▉| 98961/100000 [00:33<00:00, 2850.73it/s]\u001b[A\n",
      "Convert dataset:  99%|█████████▉| 99255/100000 [00:33<00:00, 2876.34it/s]\u001b[A\n",
      "Convert dataset: 100%|█████████▉| 99568/100000 [00:33<00:00, 2945.59it/s]\u001b[A\n",
      "Convert dataset: 100%|██████████| 100000/100000 [00:33<00:00, 2943.77it/s][A\n"
     ]
    }
   ],
   "source": [
    "train_data = myreader_regression.get_examples('queries3_sentences_regression_train.csv', max_examples=100000)\n",
    "train_dataset = SentencesDataset(train_data, show_progress_bar=True, model=model_1)\n"
   ]
  },
  {
   "cell_type": "code",
   "execution_count": 29,
   "metadata": {
    "scrolled": true
   },
   "outputs": [
    {
     "name": "stderr",
     "output_type": "stream",
     "text": [
      "\n",
      "Convert dataset:   0%|          | 0/16259 [00:00<?, ?it/s]\u001b[A\n",
      "Convert dataset:   2%|▏         | 334/16259 [00:00<00:04, 3335.80it/s]\u001b[A\n",
      "Convert dataset:   4%|▍         | 634/16259 [00:00<00:04, 3225.67it/s]\u001b[A\n",
      "Convert dataset:   5%|▌         | 890/16259 [00:00<00:05, 2987.52it/s]\u001b[A\n",
      "Convert dataset:   7%|▋         | 1201/16259 [00:00<00:04, 3022.05it/s]\u001b[A\n",
      "Convert dataset:   9%|▉         | 1474/16259 [00:00<00:05, 2927.28it/s]\u001b[A\n",
      "Convert dataset:  11%|█         | 1750/16259 [00:00<00:05, 2873.98it/s]\u001b[A\n",
      "Convert dataset:  13%|█▎        | 2057/16259 [00:00<00:04, 2928.55it/s]\u001b[A\n",
      "Convert dataset:  14%|█▍        | 2330/16259 [00:00<00:04, 2865.33it/s]\u001b[A\n",
      "Convert dataset:  16%|█▌        | 2606/16259 [00:00<00:04, 2832.47it/s]\u001b[A\n",
      "Convert dataset:  18%|█▊        | 2933/16259 [00:01<00:04, 2950.89it/s]\u001b[A\n",
      "Convert dataset:  20%|█▉        | 3221/16259 [00:01<00:04, 2820.45it/s]\u001b[A\n",
      "Convert dataset:  22%|██▏       | 3500/16259 [00:01<00:04, 2785.12it/s]\u001b[A\n",
      "Convert dataset:  23%|██▎       | 3802/16259 [00:01<00:04, 2850.53it/s]\u001b[A\n",
      "Convert dataset:  25%|██▌       | 4086/16259 [00:01<00:04, 2750.34it/s]\u001b[A\n",
      "Convert dataset:  27%|██▋       | 4395/16259 [00:01<00:04, 2842.58it/s]\u001b[A\n",
      "Convert dataset:  29%|██▉       | 4706/16259 [00:01<00:03, 2916.41it/s]\u001b[A\n",
      "Convert dataset:  31%|███       | 4999/16259 [00:01<00:03, 2914.87it/s]\u001b[A\n",
      "Convert dataset:  33%|███▎      | 5394/16259 [00:01<00:03, 3163.10it/s]\u001b[A\n",
      "Convert dataset:  35%|███▌      | 5717/16259 [00:01<00:03, 3110.36it/s]\u001b[A\n",
      "Convert dataset:  37%|███▋      | 6033/16259 [00:02<00:03, 3120.88it/s]\u001b[A\n",
      "Convert dataset:  39%|███▉      | 6349/16259 [00:02<00:03, 3046.59it/s]\u001b[A\n",
      "Convert dataset:  41%|████      | 6657/16259 [00:02<00:03, 3042.12it/s]\u001b[A\n",
      "Convert dataset:  43%|████▎     | 6979/16259 [00:02<00:03, 3091.03it/s]\u001b[A\n",
      "Convert dataset:  45%|████▍     | 7290/16259 [00:02<00:02, 3047.28it/s]\u001b[A\n",
      "Convert dataset:  47%|████▋     | 7596/16259 [00:02<00:02, 2915.65it/s]\u001b[A\n",
      "Convert dataset:  49%|████▊     | 7913/16259 [00:02<00:02, 2987.45it/s]\u001b[A\n",
      "Convert dataset:  51%|█████     | 8235/16259 [00:02<00:02, 3052.47it/s]\u001b[A\n",
      "Convert dataset:  53%|█████▎    | 8544/16259 [00:02<00:02, 3062.93it/s]\u001b[A\n",
      "Convert dataset:  54%|█████▍    | 8860/16259 [00:02<00:02, 3089.40it/s]\u001b[A\n",
      "Convert dataset:  56%|█████▋    | 9170/16259 [00:03<00:02, 3058.46it/s]\u001b[A\n",
      "Convert dataset:  58%|█████▊    | 9477/16259 [00:03<00:02, 3029.66it/s]\u001b[A\n",
      "Convert dataset:  60%|██████    | 9781/16259 [00:03<00:02, 2978.44it/s]\u001b[A\n",
      "Convert dataset:  62%|██████▏   | 10080/16259 [00:03<00:02, 2929.37it/s]\u001b[A\n",
      "Convert dataset:  64%|██████▍   | 10389/16259 [00:03<00:01, 2973.66it/s]\u001b[A\n",
      "Convert dataset:  66%|██████▌   | 10687/16259 [00:03<00:01, 2942.76it/s]\u001b[A\n",
      "Convert dataset:  68%|██████▊   | 10985/16259 [00:03<00:01, 2952.22it/s]\u001b[A\n",
      "Convert dataset:  69%|██████▉   | 11281/16259 [00:03<00:01, 2911.66it/s]\u001b[A\n",
      "Convert dataset:  71%|███████   | 11573/16259 [00:03<00:01, 2866.44it/s]\u001b[A\n",
      "Convert dataset:  73%|███████▎  | 11861/16259 [00:04<00:01, 2870.30it/s]\u001b[A\n",
      "Convert dataset:  75%|███████▍  | 12151/16259 [00:04<00:01, 2876.45it/s]\u001b[A\n",
      "Convert dataset:  77%|███████▋  | 12439/16259 [00:04<00:01, 2875.96it/s]\u001b[A\n",
      "Convert dataset:  78%|███████▊  | 12727/16259 [00:04<00:01, 2820.27it/s]\u001b[A\n",
      "Convert dataset:  80%|████████  | 13010/16259 [00:04<00:01, 2756.82it/s]\u001b[A\n",
      "Convert dataset:  82%|████████▏ | 13287/16259 [00:04<00:01, 2758.91it/s]\u001b[A\n",
      "Convert dataset:  83%|████████▎ | 13564/16259 [00:04<00:00, 2761.58it/s]\u001b[A\n",
      "Convert dataset:  85%|████████▌ | 13850/16259 [00:04<00:00, 2789.00it/s]\u001b[A\n",
      "Convert dataset:  87%|████████▋ | 14161/16259 [00:04<00:00, 2875.08it/s]\u001b[A\n",
      "Convert dataset:  89%|████████▉ | 14450/16259 [00:04<00:00, 2853.00it/s]\u001b[A\n",
      "Convert dataset:  91%|█████████ | 14736/16259 [00:05<00:00, 2806.54it/s]\u001b[A\n",
      "Convert dataset:  92%|█████████▏| 15038/16259 [00:05<00:00, 2866.21it/s]\u001b[A\n",
      "Convert dataset:  94%|█████████▍| 15351/16259 [00:05<00:00, 2939.75it/s]\u001b[A\n",
      "Convert dataset:  96%|█████████▌| 15646/16259 [00:05<00:00, 2712.28it/s]\u001b[A\n",
      "Convert dataset:  98%|█████████▊| 15922/16259 [00:05<00:00, 2680.55it/s]\u001b[A\n",
      "Convert dataset: 100%|██████████| 16259/16259 [00:05<00:00, 2909.69it/s]\u001b[A\n"
     ]
    }
   ],
   "source": [
    "dev_dataset = SentencesDataset(\n",
    "    myreader_regression.get_examples('queries3_sentences_regression_dev.csv', max_examples=100000), \n",
    "    show_progress_bar=True, model=model_1)"
   ]
  },
  {
   "cell_type": "code",
   "execution_count": 30,
   "metadata": {
    "scrolled": true
   },
   "outputs": [
    {
     "data": {
      "text/plain": [
       "'\\nmyreader_rawdata = MyDataReader(\\'/run/media/root/Windows/Users/agnes/Downloads/data/msmarco/\\',\\n                       s1_col_idx=1,\\n                       s2_col_idx=4,\\n                       score_col_idx=2,\\n                       delimiter=\",\",\\n                       quoting=csv.QUOTE_MINIMAL,\\n                       normalize_scores=False, min_score=0, max_score=1)\\n\\nmyreader_rawdata.get_examples(\\'queries_od.csv\\', max_examples=2)\\n'"
      ]
     },
     "execution_count": 30,
     "metadata": {},
     "output_type": "execute_result"
    }
   ],
   "source": [
    "\"\"\"\n",
    "myreader_rawdata = MyDataReader('/run/media/root/Windows/Users/agnes/Downloads/data/msmarco/',\n",
    "                       s1_col_idx=1,\n",
    "                       s2_col_idx=4,\n",
    "                       score_col_idx=2,\n",
    "                       delimiter=\",\",\n",
    "                       quoting=csv.QUOTE_MINIMAL,\n",
    "                       normalize_scores=False, min_score=0, max_score=1)\n",
    "\n",
    "myreader_rawdata.get_examples('queries_od.csv', max_examples=2)\n",
    "\"\"\""
   ]
  },
  {
   "cell_type": "code",
   "execution_count": 31,
   "metadata": {
    "scrolled": false
   },
   "outputs": [
    {
     "data": {
      "text/plain": [
       "'\\nmy_data = SentencesDataset(examples=myreader.get_examples(\"queries_od.csv\", max_examples=100), \\n                           model=model_1,\\n                          show_progress_bar=True)\\n'"
      ]
     },
     "execution_count": 31,
     "metadata": {},
     "output_type": "execute_result"
    }
   ],
   "source": [
    "\"\"\"\n",
    "my_data = SentencesDataset(examples=myreader.get_examples(\"queries_od.csv\", max_examples=100), \n",
    "                           model=model_1,\n",
    "                          show_progress_bar=True)\n",
    "\"\"\"\n"
   ]
  },
  {
   "cell_type": "code",
   "execution_count": null,
   "metadata": {
    "scrolled": true
   },
   "outputs": [],
   "source": [
    "\"\"\"\n",
    "my_data_l = SentenceLabelDataset(examples=myreader.get_examples(\"queries_od.csv\", max_examples=100), \n",
    "                           model=model_wiki,\n",
    "                          show_progress_bar=True)\n",
    "\"\"\""
   ]
  },
  {
   "cell_type": "code",
   "execution_count": 33,
   "metadata": {
    "scrolled": true
   },
   "outputs": [],
   "source": [
    "num_epochs = 1\n",
    "train_batch_size = 8\n",
    "\n",
    "warmup_steps = math.ceil(len(train_dataset)*num_epochs/train_batch_size*0.1) #10% of train data for warm-up\n",
    "\n",
    "optimizer_class = transformers.AdamW\n",
    "optimizer_params = {'lr': 2e-5, 'eps': 1e-6, 'correct_bias': False}\n",
    "\n",
    "train_loss = losses.CosineSimilarityLoss(model=model_1)"
   ]
  },
  {
   "cell_type": "code",
   "execution_count": 38,
   "metadata": {
    "scrolled": true
   },
   "outputs": [],
   "source": [
    "train_dataloader = DataLoader(train_dataset, shuffle=True, batch_size=train_batch_size)"
   ]
  },
  {
   "cell_type": "code",
   "execution_count": 39,
   "metadata": {},
   "outputs": [],
   "source": [
    "dev_dataloader = DataLoader(dev_dataset, shuffle=True, batch_size=train_batch_size)"
   ]
  },
  {
   "cell_type": "code",
   "execution_count": 42,
   "metadata": {},
   "outputs": [],
   "source": [
    "evaluator = BinaryEmbeddingSimilarityEvaluator(dev_dataloader)"
   ]
  },
  {
   "cell_type": "code",
   "execution_count": null,
   "metadata": {
    "scrolled": true
   },
   "outputs": [
    {
     "name": "stderr",
     "output_type": "stream",
     "text": [
      "\n",
      "\n",
      "\n",
      "\n",
      "\n",
      "Evaluating:   0%|          | 0/2033 [00:00<?, ?it/s]\u001b[A\u001b[A\u001b[A\u001b[A\u001b[A\n",
      "\n",
      "\n",
      "\n",
      "\n",
      "Evaluating:   0%|          | 1/2033 [00:03<2:00:20,  3.55s/it]\u001b[A\u001b[A\u001b[A\u001b[A\u001b[A\n",
      "\n",
      "\n",
      "\n",
      "\n",
      "Evaluating:   0%|          | 2/2033 [00:09<2:22:58,  4.22s/it]\u001b[A\u001b[A\u001b[A\u001b[A\u001b[A\n",
      "\n",
      "\n",
      "\n",
      "\n",
      "Evaluating:   0%|          | 3/2033 [00:12<2:08:42,  3.80s/it]\u001b[A\u001b[A\u001b[A\u001b[A\u001b[A\n",
      "\n",
      "\n",
      "\n",
      "\n",
      "Evaluating:   0%|          | 4/2033 [00:14<1:55:16,  3.41s/it]\u001b[A\u001b[A\u001b[A\u001b[A\u001b[A\n",
      "\n",
      "\n",
      "\n",
      "\n",
      "Evaluating:   0%|          | 5/2033 [00:18<1:56:23,  3.44s/it]\u001b[A\u001b[A\u001b[A\u001b[A\u001b[A\n",
      "\n",
      "\n",
      "\n",
      "\n",
      "Evaluating:   0%|          | 6/2033 [00:23<2:15:15,  4.00s/it]\u001b[A\u001b[A\u001b[A\u001b[A\u001b[A\n",
      "\n",
      "\n",
      "\n",
      "\n",
      "Evaluating:   0%|          | 7/2033 [00:27<2:19:57,  4.15s/it]\u001b[A\u001b[A\u001b[A\u001b[A\u001b[A\n",
      "\n",
      "\n",
      "\n",
      "\n",
      "Evaluating:   0%|          | 8/2033 [00:31<2:09:53,  3.85s/it]\u001b[A\u001b[A\u001b[A\u001b[A\u001b[A\n",
      "\n",
      "\n",
      "\n",
      "\n",
      "Evaluating:   0%|          | 9/2033 [00:39<2:52:44,  5.12s/it]\u001b[A\u001b[A\u001b[A\u001b[A\u001b[A"
     ]
    }
   ],
   "source": [
    "model_1.evaluate(evaluator)\n"
   ]
  },
  {
   "cell_type": "code",
   "execution_count": 43,
   "metadata": {
    "scrolled": true
   },
   "outputs": [],
   "source": [
    "MODEL_DIR = '/run/media/root/Windows/Users/agnes/Downloads/data/msmarco/models'"
   ]
  },
  {
   "cell_type": "code",
   "execution_count": 44,
   "metadata": {
    "scrolled": true
   },
   "outputs": [],
   "source": [
    "my_output_path = os.path.join(MODEL_DIR, 'test_model_4')"
   ]
  },
  {
   "cell_type": "code",
   "execution_count": 47,
   "metadata": {
    "scrolled": true
   },
   "outputs": [
    {
     "name": "stderr",
     "output_type": "stream",
     "text": [
      "\n",
      "\n",
      "\n",
      "Epoch:   0%|          | 0/1 [00:00<?, ?it/s]\u001b[A\u001b[A\u001b[A\n",
      "\n",
      "\n",
      "\n",
      "Iteration:   0%|          | 0/100 [00:00<?, ?it/s]\u001b[A\u001b[A\u001b[A\u001b[A\n",
      "\n",
      "\n",
      "\n",
      "Iteration:   1%|          | 1/100 [00:14<24:14, 14.69s/it]\u001b[A\u001b[A\u001b[A\u001b[A\n",
      "\n",
      "\n",
      "\n",
      "Iteration:   2%|▏         | 2/100 [00:46<25:22, 15.54s/it]\u001b[A\u001b[A\u001b[A\u001b[A\n",
      "\n",
      "\n",
      "\n",
      "Iteration:   3%|▎         | 3/100 [01:00<25:01, 15.48s/it]\u001b[A\u001b[A\u001b[A\u001b[A\n",
      "\n",
      "\n",
      "\n",
      "Iteration:   4%|▍         | 4/100 [01:16<24:49, 15.52s/it]\u001b[A\u001b[A\u001b[A\u001b[A\n",
      "\n",
      "\n",
      "\n",
      "Iteration:   5%|▌         | 5/100 [01:30<24:22, 15.40s/it]\u001b[A\u001b[A\u001b[A\u001b[A\n",
      "\n",
      "\n",
      "\n",
      "Iteration:   6%|▌         | 6/100 [01:54<24:51, 15.87s/it]\u001b[A\u001b[A\u001b[A\u001b[A\n",
      "\n",
      "\n",
      "\n",
      "Iteration:   7%|▋         | 7/100 [02:08<24:24, 15.75s/it]\u001b[A\u001b[A\u001b[A\u001b[A\n",
      "\n",
      "\n",
      "\n",
      "Iteration:   8%|▊         | 8/100 [02:24<24:09, 15.76s/it]\u001b[A\u001b[A\u001b[A\u001b[A\n",
      "\n",
      "\n",
      "\n",
      "Iteration:   9%|▉         | 9/100 [02:37<23:44, 15.65s/it]\u001b[A\u001b[A\u001b[A\u001b[A\n",
      "\n",
      "\n",
      "\n",
      "Iteration:  10%|█         | 10/100 [02:51<23:21, 15.57s/it]\u001b[A\u001b[A\u001b[A\u001b[A\n",
      "\n",
      "\n",
      "\n",
      "Iteration:  11%|█         | 11/100 [03:15<23:41, 15.98s/it]\u001b[A\u001b[A\u001b[A\u001b[A\n",
      "\n",
      "\n",
      "\n",
      "Iteration:  12%|█▏        | 12/100 [03:34<23:36, 16.09s/it]\u001b[A\u001b[A\u001b[A\u001b[A\n",
      "\n",
      "\n",
      "\n",
      "Iteration:  13%|█▎        | 13/100 [03:50<23:22, 16.12s/it]\u001b[A\u001b[A\u001b[A\u001b[A\n",
      "\n",
      "\n",
      "\n",
      "Iteration:  14%|█▍        | 14/100 [04:07<23:08, 16.14s/it]\u001b[A\u001b[A\u001b[A\u001b[A\n",
      "\n",
      "\n",
      "\n",
      "Iteration:  15%|█▌        | 15/100 [04:24<22:58, 16.22s/it]\u001b[A\u001b[A\u001b[A\u001b[A\n",
      "\n",
      "\n",
      "\n",
      "Iteration:  16%|█▌        | 16/100 [04:42<22:47, 16.28s/it]\u001b[A\u001b[A\u001b[A\u001b[A\n",
      "\n",
      "\n",
      "\n",
      "Iteration:  17%|█▋        | 17/100 [04:55<22:19, 16.14s/it]\u001b[A\u001b[A\u001b[A\u001b[A\n",
      "\n",
      "\n",
      "\n",
      "Iteration:  18%|█▊        | 18/100 [05:10<21:56, 16.05s/it]\u001b[A\u001b[A\u001b[A\u001b[A\n",
      "\n",
      "\n",
      "\n",
      "Iteration:  19%|█▉        | 19/100 [05:26<21:40, 16.05s/it]\u001b[A\u001b[A\u001b[A\u001b[A\n",
      "\n",
      "\n",
      "\n",
      "Iteration:  20%|██        | 20/100 [05:44<21:31, 16.14s/it]\u001b[A\u001b[A\u001b[A\u001b[A\n",
      "\n",
      "\n",
      "\n",
      "Iteration:  21%|██        | 21/100 [06:00<21:15, 16.14s/it]\u001b[A\u001b[A\u001b[A\u001b[A\n",
      "\n",
      "\n",
      "\n",
      "Iteration:  22%|██▏       | 22/100 [06:15<20:54, 16.08s/it]\u001b[A\u001b[A\u001b[A\u001b[A\n",
      "\n",
      "\n",
      "\n",
      "Iteration:  23%|██▎       | 23/100 [06:29<20:32, 16.01s/it]\u001b[A\u001b[A\u001b[A\u001b[A"
     ]
    },
    {
     "ename": "KeyboardInterrupt",
     "evalue": "",
     "output_type": "error",
     "traceback": [
      "\u001b[0;31m---------------------------------------------------------------------------\u001b[0m",
      "\u001b[0;31mKeyboardInterrupt\u001b[0m                         Traceback (most recent call last)",
      "\u001b[0;32m<ipython-input-47-052f7f78a132>\u001b[0m in \u001b[0;36m<module>\u001b[0;34m\u001b[0m\n\u001b[1;32m      6\u001b[0m           \u001b[0moptimizer_class\u001b[0m\u001b[0;34m=\u001b[0m\u001b[0moptimizer_class\u001b[0m\u001b[0;34m,\u001b[0m\u001b[0;34m\u001b[0m\u001b[0m\n\u001b[1;32m      7\u001b[0m           \u001b[0moptimizer_params\u001b[0m\u001b[0;34m=\u001b[0m\u001b[0moptimizer_params\u001b[0m\u001b[0;34m,\u001b[0m\u001b[0;34m\u001b[0m\u001b[0m\n\u001b[0;32m----> 8\u001b[0;31m           output_path=my_output_path) # works only when you have an evaluator\n\u001b[0m",
      "\u001b[0;32m/home/agnes/git/udacity-project/venv/lib64/python3.6/site-packages/sentence_transformers/SentenceTransformer.py\u001b[0m in \u001b[0;36mfit\u001b[0;34m(self, train_objectives, evaluator, epochs, steps_per_epoch, scheduler, warmup_steps, optimizer_class, optimizer_params, weight_decay, evaluation_steps, output_path, save_best_model, max_grad_norm, fp16, fp16_opt_level, local_rank)\u001b[0m\n\u001b[1;32m    364\u001b[0m \u001b[0;34m\u001b[0m\u001b[0m\n\u001b[1;32m    365\u001b[0m                     \u001b[0mfeatures\u001b[0m\u001b[0;34m,\u001b[0m \u001b[0mlabels\u001b[0m \u001b[0;34m=\u001b[0m \u001b[0mbatch_to_device\u001b[0m\u001b[0;34m(\u001b[0m\u001b[0mdata\u001b[0m\u001b[0;34m,\u001b[0m \u001b[0mself\u001b[0m\u001b[0;34m.\u001b[0m\u001b[0mdevice\u001b[0m\u001b[0;34m)\u001b[0m\u001b[0;34m\u001b[0m\u001b[0m\n\u001b[0;32m--> 366\u001b[0;31m                     \u001b[0mloss_value\u001b[0m \u001b[0;34m=\u001b[0m \u001b[0mloss_model\u001b[0m\u001b[0;34m(\u001b[0m\u001b[0mfeatures\u001b[0m\u001b[0;34m,\u001b[0m \u001b[0mlabels\u001b[0m\u001b[0;34m)\u001b[0m\u001b[0;34m\u001b[0m\u001b[0m\n\u001b[0m\u001b[1;32m    367\u001b[0m \u001b[0;34m\u001b[0m\u001b[0m\n\u001b[1;32m    368\u001b[0m \u001b[0;34m\u001b[0m\u001b[0m\n",
      "\u001b[0;32m/home/agnes/git/udacity-project/venv/lib64/python3.6/site-packages/torch/nn/modules/module.py\u001b[0m in \u001b[0;36m__call__\u001b[0;34m(self, *input, **kwargs)\u001b[0m\n\u001b[1;32m    530\u001b[0m             \u001b[0mresult\u001b[0m \u001b[0;34m=\u001b[0m \u001b[0mself\u001b[0m\u001b[0;34m.\u001b[0m\u001b[0m_slow_forward\u001b[0m\u001b[0;34m(\u001b[0m\u001b[0;34m*\u001b[0m\u001b[0minput\u001b[0m\u001b[0;34m,\u001b[0m \u001b[0;34m**\u001b[0m\u001b[0mkwargs\u001b[0m\u001b[0;34m)\u001b[0m\u001b[0;34m\u001b[0m\u001b[0m\n\u001b[1;32m    531\u001b[0m         \u001b[0;32melse\u001b[0m\u001b[0;34m:\u001b[0m\u001b[0;34m\u001b[0m\u001b[0m\n\u001b[0;32m--> 532\u001b[0;31m             \u001b[0mresult\u001b[0m \u001b[0;34m=\u001b[0m \u001b[0mself\u001b[0m\u001b[0;34m.\u001b[0m\u001b[0mforward\u001b[0m\u001b[0;34m(\u001b[0m\u001b[0;34m*\u001b[0m\u001b[0minput\u001b[0m\u001b[0;34m,\u001b[0m \u001b[0;34m**\u001b[0m\u001b[0mkwargs\u001b[0m\u001b[0;34m)\u001b[0m\u001b[0;34m\u001b[0m\u001b[0m\n\u001b[0m\u001b[1;32m    533\u001b[0m         \u001b[0;32mfor\u001b[0m \u001b[0mhook\u001b[0m \u001b[0;32min\u001b[0m \u001b[0mself\u001b[0m\u001b[0;34m.\u001b[0m\u001b[0m_forward_hooks\u001b[0m\u001b[0;34m.\u001b[0m\u001b[0mvalues\u001b[0m\u001b[0;34m(\u001b[0m\u001b[0;34m)\u001b[0m\u001b[0;34m:\u001b[0m\u001b[0;34m\u001b[0m\u001b[0m\n\u001b[1;32m    534\u001b[0m             \u001b[0mhook_result\u001b[0m \u001b[0;34m=\u001b[0m \u001b[0mhook\u001b[0m\u001b[0;34m(\u001b[0m\u001b[0mself\u001b[0m\u001b[0;34m,\u001b[0m \u001b[0minput\u001b[0m\u001b[0;34m,\u001b[0m \u001b[0mresult\u001b[0m\u001b[0;34m)\u001b[0m\u001b[0;34m\u001b[0m\u001b[0m\n",
      "\u001b[0;32m/home/agnes/git/udacity-project/venv/lib64/python3.6/site-packages/sentence_transformers/losses/CosineSimilarityLoss.py\u001b[0m in \u001b[0;36mforward\u001b[0;34m(self, sentence_features, labels)\u001b[0m\n\u001b[1;32m     11\u001b[0m \u001b[0;34m\u001b[0m\u001b[0m\n\u001b[1;32m     12\u001b[0m     \u001b[0;32mdef\u001b[0m \u001b[0mforward\u001b[0m\u001b[0;34m(\u001b[0m\u001b[0mself\u001b[0m\u001b[0;34m,\u001b[0m \u001b[0msentence_features\u001b[0m\u001b[0;34m:\u001b[0m \u001b[0mIterable\u001b[0m\u001b[0;34m[\u001b[0m\u001b[0mDict\u001b[0m\u001b[0;34m[\u001b[0m\u001b[0mstr\u001b[0m\u001b[0;34m,\u001b[0m \u001b[0mTensor\u001b[0m\u001b[0;34m]\u001b[0m\u001b[0;34m]\u001b[0m\u001b[0;34m,\u001b[0m \u001b[0mlabels\u001b[0m\u001b[0;34m:\u001b[0m \u001b[0mTensor\u001b[0m\u001b[0;34m)\u001b[0m\u001b[0;34m:\u001b[0m\u001b[0;34m\u001b[0m\u001b[0m\n\u001b[0;32m---> 13\u001b[0;31m         \u001b[0mreps\u001b[0m \u001b[0;34m=\u001b[0m \u001b[0;34m[\u001b[0m\u001b[0mself\u001b[0m\u001b[0;34m.\u001b[0m\u001b[0mmodel\u001b[0m\u001b[0;34m(\u001b[0m\u001b[0msentence_feature\u001b[0m\u001b[0;34m)\u001b[0m\u001b[0;34m[\u001b[0m\u001b[0;34m'sentence_embedding'\u001b[0m\u001b[0;34m]\u001b[0m \u001b[0;32mfor\u001b[0m \u001b[0msentence_feature\u001b[0m \u001b[0;32min\u001b[0m \u001b[0msentence_features\u001b[0m\u001b[0;34m]\u001b[0m\u001b[0;34m\u001b[0m\u001b[0m\n\u001b[0m\u001b[1;32m     14\u001b[0m         \u001b[0mrep_a\u001b[0m\u001b[0;34m,\u001b[0m \u001b[0mrep_b\u001b[0m \u001b[0;34m=\u001b[0m \u001b[0mreps\u001b[0m\u001b[0;34m\u001b[0m\u001b[0m\n\u001b[1;32m     15\u001b[0m \u001b[0;34m\u001b[0m\u001b[0m\n",
      "\u001b[0;32m/home/agnes/git/udacity-project/venv/lib64/python3.6/site-packages/sentence_transformers/losses/CosineSimilarityLoss.py\u001b[0m in \u001b[0;36m<listcomp>\u001b[0;34m(.0)\u001b[0m\n\u001b[1;32m     11\u001b[0m \u001b[0;34m\u001b[0m\u001b[0m\n\u001b[1;32m     12\u001b[0m     \u001b[0;32mdef\u001b[0m \u001b[0mforward\u001b[0m\u001b[0;34m(\u001b[0m\u001b[0mself\u001b[0m\u001b[0;34m,\u001b[0m \u001b[0msentence_features\u001b[0m\u001b[0;34m:\u001b[0m \u001b[0mIterable\u001b[0m\u001b[0;34m[\u001b[0m\u001b[0mDict\u001b[0m\u001b[0;34m[\u001b[0m\u001b[0mstr\u001b[0m\u001b[0;34m,\u001b[0m \u001b[0mTensor\u001b[0m\u001b[0;34m]\u001b[0m\u001b[0;34m]\u001b[0m\u001b[0;34m,\u001b[0m \u001b[0mlabels\u001b[0m\u001b[0;34m:\u001b[0m \u001b[0mTensor\u001b[0m\u001b[0;34m)\u001b[0m\u001b[0;34m:\u001b[0m\u001b[0;34m\u001b[0m\u001b[0m\n\u001b[0;32m---> 13\u001b[0;31m         \u001b[0mreps\u001b[0m \u001b[0;34m=\u001b[0m \u001b[0;34m[\u001b[0m\u001b[0mself\u001b[0m\u001b[0;34m.\u001b[0m\u001b[0mmodel\u001b[0m\u001b[0;34m(\u001b[0m\u001b[0msentence_feature\u001b[0m\u001b[0;34m)\u001b[0m\u001b[0;34m[\u001b[0m\u001b[0;34m'sentence_embedding'\u001b[0m\u001b[0;34m]\u001b[0m \u001b[0;32mfor\u001b[0m \u001b[0msentence_feature\u001b[0m \u001b[0;32min\u001b[0m \u001b[0msentence_features\u001b[0m\u001b[0;34m]\u001b[0m\u001b[0;34m\u001b[0m\u001b[0m\n\u001b[0m\u001b[1;32m     14\u001b[0m         \u001b[0mrep_a\u001b[0m\u001b[0;34m,\u001b[0m \u001b[0mrep_b\u001b[0m \u001b[0;34m=\u001b[0m \u001b[0mreps\u001b[0m\u001b[0;34m\u001b[0m\u001b[0m\n\u001b[1;32m     15\u001b[0m \u001b[0;34m\u001b[0m\u001b[0m\n",
      "\u001b[0;32m/home/agnes/git/udacity-project/venv/lib64/python3.6/site-packages/torch/nn/modules/module.py\u001b[0m in \u001b[0;36m__call__\u001b[0;34m(self, *input, **kwargs)\u001b[0m\n\u001b[1;32m    530\u001b[0m             \u001b[0mresult\u001b[0m \u001b[0;34m=\u001b[0m \u001b[0mself\u001b[0m\u001b[0;34m.\u001b[0m\u001b[0m_slow_forward\u001b[0m\u001b[0;34m(\u001b[0m\u001b[0;34m*\u001b[0m\u001b[0minput\u001b[0m\u001b[0;34m,\u001b[0m \u001b[0;34m**\u001b[0m\u001b[0mkwargs\u001b[0m\u001b[0;34m)\u001b[0m\u001b[0;34m\u001b[0m\u001b[0m\n\u001b[1;32m    531\u001b[0m         \u001b[0;32melse\u001b[0m\u001b[0;34m:\u001b[0m\u001b[0;34m\u001b[0m\u001b[0m\n\u001b[0;32m--> 532\u001b[0;31m             \u001b[0mresult\u001b[0m \u001b[0;34m=\u001b[0m \u001b[0mself\u001b[0m\u001b[0;34m.\u001b[0m\u001b[0mforward\u001b[0m\u001b[0;34m(\u001b[0m\u001b[0;34m*\u001b[0m\u001b[0minput\u001b[0m\u001b[0;34m,\u001b[0m \u001b[0;34m**\u001b[0m\u001b[0mkwargs\u001b[0m\u001b[0;34m)\u001b[0m\u001b[0;34m\u001b[0m\u001b[0m\n\u001b[0m\u001b[1;32m    533\u001b[0m         \u001b[0;32mfor\u001b[0m \u001b[0mhook\u001b[0m \u001b[0;32min\u001b[0m \u001b[0mself\u001b[0m\u001b[0;34m.\u001b[0m\u001b[0m_forward_hooks\u001b[0m\u001b[0;34m.\u001b[0m\u001b[0mvalues\u001b[0m\u001b[0;34m(\u001b[0m\u001b[0;34m)\u001b[0m\u001b[0;34m:\u001b[0m\u001b[0;34m\u001b[0m\u001b[0m\n\u001b[1;32m    534\u001b[0m             \u001b[0mhook_result\u001b[0m \u001b[0;34m=\u001b[0m \u001b[0mhook\u001b[0m\u001b[0;34m(\u001b[0m\u001b[0mself\u001b[0m\u001b[0;34m,\u001b[0m \u001b[0minput\u001b[0m\u001b[0;34m,\u001b[0m \u001b[0mresult\u001b[0m\u001b[0;34m)\u001b[0m\u001b[0;34m\u001b[0m\u001b[0m\n",
      "\u001b[0;32m/home/agnes/git/udacity-project/venv/lib64/python3.6/site-packages/torch/nn/modules/container.py\u001b[0m in \u001b[0;36mforward\u001b[0;34m(self, input)\u001b[0m\n\u001b[1;32m     98\u001b[0m     \u001b[0;32mdef\u001b[0m \u001b[0mforward\u001b[0m\u001b[0;34m(\u001b[0m\u001b[0mself\u001b[0m\u001b[0;34m,\u001b[0m \u001b[0minput\u001b[0m\u001b[0;34m)\u001b[0m\u001b[0;34m:\u001b[0m\u001b[0;34m\u001b[0m\u001b[0m\n\u001b[1;32m     99\u001b[0m         \u001b[0;32mfor\u001b[0m \u001b[0mmodule\u001b[0m \u001b[0;32min\u001b[0m \u001b[0mself\u001b[0m\u001b[0;34m:\u001b[0m\u001b[0;34m\u001b[0m\u001b[0m\n\u001b[0;32m--> 100\u001b[0;31m             \u001b[0minput\u001b[0m \u001b[0;34m=\u001b[0m \u001b[0mmodule\u001b[0m\u001b[0;34m(\u001b[0m\u001b[0minput\u001b[0m\u001b[0;34m)\u001b[0m\u001b[0;34m\u001b[0m\u001b[0m\n\u001b[0m\u001b[1;32m    101\u001b[0m         \u001b[0;32mreturn\u001b[0m \u001b[0minput\u001b[0m\u001b[0;34m\u001b[0m\u001b[0m\n\u001b[1;32m    102\u001b[0m \u001b[0;34m\u001b[0m\u001b[0m\n",
      "\u001b[0;32m/home/agnes/git/udacity-project/venv/lib64/python3.6/site-packages/torch/nn/modules/module.py\u001b[0m in \u001b[0;36m__call__\u001b[0;34m(self, *input, **kwargs)\u001b[0m\n\u001b[1;32m    530\u001b[0m             \u001b[0mresult\u001b[0m \u001b[0;34m=\u001b[0m \u001b[0mself\u001b[0m\u001b[0;34m.\u001b[0m\u001b[0m_slow_forward\u001b[0m\u001b[0;34m(\u001b[0m\u001b[0;34m*\u001b[0m\u001b[0minput\u001b[0m\u001b[0;34m,\u001b[0m \u001b[0;34m**\u001b[0m\u001b[0mkwargs\u001b[0m\u001b[0;34m)\u001b[0m\u001b[0;34m\u001b[0m\u001b[0m\n\u001b[1;32m    531\u001b[0m         \u001b[0;32melse\u001b[0m\u001b[0;34m:\u001b[0m\u001b[0;34m\u001b[0m\u001b[0m\n\u001b[0;32m--> 532\u001b[0;31m             \u001b[0mresult\u001b[0m \u001b[0;34m=\u001b[0m \u001b[0mself\u001b[0m\u001b[0;34m.\u001b[0m\u001b[0mforward\u001b[0m\u001b[0;34m(\u001b[0m\u001b[0;34m*\u001b[0m\u001b[0minput\u001b[0m\u001b[0;34m,\u001b[0m \u001b[0;34m**\u001b[0m\u001b[0mkwargs\u001b[0m\u001b[0;34m)\u001b[0m\u001b[0;34m\u001b[0m\u001b[0m\n\u001b[0m\u001b[1;32m    533\u001b[0m         \u001b[0;32mfor\u001b[0m \u001b[0mhook\u001b[0m \u001b[0;32min\u001b[0m \u001b[0mself\u001b[0m\u001b[0;34m.\u001b[0m\u001b[0m_forward_hooks\u001b[0m\u001b[0;34m.\u001b[0m\u001b[0mvalues\u001b[0m\u001b[0;34m(\u001b[0m\u001b[0;34m)\u001b[0m\u001b[0;34m:\u001b[0m\u001b[0;34m\u001b[0m\u001b[0m\n\u001b[1;32m    534\u001b[0m             \u001b[0mhook_result\u001b[0m \u001b[0;34m=\u001b[0m \u001b[0mhook\u001b[0m\u001b[0;34m(\u001b[0m\u001b[0mself\u001b[0m\u001b[0;34m,\u001b[0m \u001b[0minput\u001b[0m\u001b[0;34m,\u001b[0m \u001b[0mresult\u001b[0m\u001b[0;34m)\u001b[0m\u001b[0;34m\u001b[0m\u001b[0m\n",
      "\u001b[0;32m/home/agnes/git/udacity-project/venv/lib64/python3.6/site-packages/sentence_transformers/models/RoBERTa.py\u001b[0m in \u001b[0;36mforward\u001b[0;34m(self, features)\u001b[0m\n\u001b[1;32m     32\u001b[0m         \u001b[0;34m\"\"\"Returns token_embeddings, cls_token\"\"\"\u001b[0m\u001b[0;34m\u001b[0m\u001b[0m\n\u001b[1;32m     33\u001b[0m         \u001b[0;31m#RoBERTa does not use token_type_ids\u001b[0m\u001b[0;34m\u001b[0m\u001b[0;34m\u001b[0m\u001b[0m\n\u001b[0;32m---> 34\u001b[0;31m         \u001b[0moutput_tokens\u001b[0m \u001b[0;34m=\u001b[0m \u001b[0mself\u001b[0m\u001b[0;34m.\u001b[0m\u001b[0mroberta\u001b[0m\u001b[0;34m(\u001b[0m\u001b[0minput_ids\u001b[0m\u001b[0;34m=\u001b[0m\u001b[0mfeatures\u001b[0m\u001b[0;34m[\u001b[0m\u001b[0;34m'input_ids'\u001b[0m\u001b[0;34m]\u001b[0m\u001b[0;34m,\u001b[0m \u001b[0mtoken_type_ids\u001b[0m\u001b[0;34m=\u001b[0m\u001b[0;32mNone\u001b[0m\u001b[0;34m,\u001b[0m \u001b[0mattention_mask\u001b[0m\u001b[0;34m=\u001b[0m\u001b[0mfeatures\u001b[0m\u001b[0;34m[\u001b[0m\u001b[0;34m'input_mask'\u001b[0m\u001b[0;34m]\u001b[0m\u001b[0;34m)\u001b[0m\u001b[0;34m[\u001b[0m\u001b[0;36m0\u001b[0m\u001b[0;34m]\u001b[0m\u001b[0;34m\u001b[0m\u001b[0m\n\u001b[0m\u001b[1;32m     35\u001b[0m         \u001b[0mcls_tokens\u001b[0m \u001b[0;34m=\u001b[0m \u001b[0moutput_tokens\u001b[0m\u001b[0;34m[\u001b[0m\u001b[0;34m:\u001b[0m\u001b[0;34m,\u001b[0m \u001b[0;36m0\u001b[0m\u001b[0;34m,\u001b[0m \u001b[0;34m:\u001b[0m\u001b[0;34m]\u001b[0m  \u001b[0;31m# CLS token is first token\u001b[0m\u001b[0;34m\u001b[0m\u001b[0m\n\u001b[1;32m     36\u001b[0m         \u001b[0mfeatures\u001b[0m\u001b[0;34m.\u001b[0m\u001b[0mupdate\u001b[0m\u001b[0;34m(\u001b[0m\u001b[0;34m{\u001b[0m\u001b[0;34m'token_embeddings'\u001b[0m\u001b[0;34m:\u001b[0m \u001b[0moutput_tokens\u001b[0m\u001b[0;34m,\u001b[0m \u001b[0;34m'cls_token_embeddings'\u001b[0m\u001b[0;34m:\u001b[0m \u001b[0mcls_tokens\u001b[0m\u001b[0;34m,\u001b[0m \u001b[0;34m'input_mask'\u001b[0m\u001b[0;34m:\u001b[0m \u001b[0mfeatures\u001b[0m\u001b[0;34m[\u001b[0m\u001b[0;34m'input_mask'\u001b[0m\u001b[0;34m]\u001b[0m\u001b[0;34m}\u001b[0m\u001b[0;34m)\u001b[0m\u001b[0;34m\u001b[0m\u001b[0m\n",
      "\u001b[0;32m/home/agnes/git/udacity-project/venv/lib64/python3.6/site-packages/torch/nn/modules/module.py\u001b[0m in \u001b[0;36m__call__\u001b[0;34m(self, *input, **kwargs)\u001b[0m\n\u001b[1;32m    530\u001b[0m             \u001b[0mresult\u001b[0m \u001b[0;34m=\u001b[0m \u001b[0mself\u001b[0m\u001b[0;34m.\u001b[0m\u001b[0m_slow_forward\u001b[0m\u001b[0;34m(\u001b[0m\u001b[0;34m*\u001b[0m\u001b[0minput\u001b[0m\u001b[0;34m,\u001b[0m \u001b[0;34m**\u001b[0m\u001b[0mkwargs\u001b[0m\u001b[0;34m)\u001b[0m\u001b[0;34m\u001b[0m\u001b[0m\n\u001b[1;32m    531\u001b[0m         \u001b[0;32melse\u001b[0m\u001b[0;34m:\u001b[0m\u001b[0;34m\u001b[0m\u001b[0m\n\u001b[0;32m--> 532\u001b[0;31m             \u001b[0mresult\u001b[0m \u001b[0;34m=\u001b[0m \u001b[0mself\u001b[0m\u001b[0;34m.\u001b[0m\u001b[0mforward\u001b[0m\u001b[0;34m(\u001b[0m\u001b[0;34m*\u001b[0m\u001b[0minput\u001b[0m\u001b[0;34m,\u001b[0m \u001b[0;34m**\u001b[0m\u001b[0mkwargs\u001b[0m\u001b[0;34m)\u001b[0m\u001b[0;34m\u001b[0m\u001b[0m\n\u001b[0m\u001b[1;32m    533\u001b[0m         \u001b[0;32mfor\u001b[0m \u001b[0mhook\u001b[0m \u001b[0;32min\u001b[0m \u001b[0mself\u001b[0m\u001b[0;34m.\u001b[0m\u001b[0m_forward_hooks\u001b[0m\u001b[0;34m.\u001b[0m\u001b[0mvalues\u001b[0m\u001b[0;34m(\u001b[0m\u001b[0;34m)\u001b[0m\u001b[0;34m:\u001b[0m\u001b[0;34m\u001b[0m\u001b[0m\n\u001b[1;32m    534\u001b[0m             \u001b[0mhook_result\u001b[0m \u001b[0;34m=\u001b[0m \u001b[0mhook\u001b[0m\u001b[0;34m(\u001b[0m\u001b[0mself\u001b[0m\u001b[0;34m,\u001b[0m \u001b[0minput\u001b[0m\u001b[0;34m,\u001b[0m \u001b[0mresult\u001b[0m\u001b[0;34m)\u001b[0m\u001b[0;34m\u001b[0m\u001b[0m\n",
      "\u001b[0;32m/home/agnes/git/udacity-project/venv/lib64/python3.6/site-packages/transformers/modeling_bert.py\u001b[0m in \u001b[0;36mforward\u001b[0;34m(self, input_ids, attention_mask, token_type_ids, position_ids, head_mask, inputs_embeds, encoder_hidden_states, encoder_attention_mask)\u001b[0m\n\u001b[1;32m    738\u001b[0m                                        \u001b[0mhead_mask\u001b[0m\u001b[0;34m=\u001b[0m\u001b[0mhead_mask\u001b[0m\u001b[0;34m,\u001b[0m\u001b[0;34m\u001b[0m\u001b[0m\n\u001b[1;32m    739\u001b[0m                                        \u001b[0mencoder_hidden_states\u001b[0m\u001b[0;34m=\u001b[0m\u001b[0mencoder_hidden_states\u001b[0m\u001b[0;34m,\u001b[0m\u001b[0;34m\u001b[0m\u001b[0m\n\u001b[0;32m--> 740\u001b[0;31m                                        encoder_attention_mask=encoder_extended_attention_mask)\n\u001b[0m\u001b[1;32m    741\u001b[0m         \u001b[0msequence_output\u001b[0m \u001b[0;34m=\u001b[0m \u001b[0mencoder_outputs\u001b[0m\u001b[0;34m[\u001b[0m\u001b[0;36m0\u001b[0m\u001b[0;34m]\u001b[0m\u001b[0;34m\u001b[0m\u001b[0m\n\u001b[1;32m    742\u001b[0m         \u001b[0mpooled_output\u001b[0m \u001b[0;34m=\u001b[0m \u001b[0mself\u001b[0m\u001b[0;34m.\u001b[0m\u001b[0mpooler\u001b[0m\u001b[0;34m(\u001b[0m\u001b[0msequence_output\u001b[0m\u001b[0;34m)\u001b[0m\u001b[0;34m\u001b[0m\u001b[0m\n",
      "\u001b[0;32m/home/agnes/git/udacity-project/venv/lib64/python3.6/site-packages/torch/nn/modules/module.py\u001b[0m in \u001b[0;36m__call__\u001b[0;34m(self, *input, **kwargs)\u001b[0m\n\u001b[1;32m    530\u001b[0m             \u001b[0mresult\u001b[0m \u001b[0;34m=\u001b[0m \u001b[0mself\u001b[0m\u001b[0;34m.\u001b[0m\u001b[0m_slow_forward\u001b[0m\u001b[0;34m(\u001b[0m\u001b[0;34m*\u001b[0m\u001b[0minput\u001b[0m\u001b[0;34m,\u001b[0m \u001b[0;34m**\u001b[0m\u001b[0mkwargs\u001b[0m\u001b[0;34m)\u001b[0m\u001b[0;34m\u001b[0m\u001b[0m\n\u001b[1;32m    531\u001b[0m         \u001b[0;32melse\u001b[0m\u001b[0;34m:\u001b[0m\u001b[0;34m\u001b[0m\u001b[0m\n\u001b[0;32m--> 532\u001b[0;31m             \u001b[0mresult\u001b[0m \u001b[0;34m=\u001b[0m \u001b[0mself\u001b[0m\u001b[0;34m.\u001b[0m\u001b[0mforward\u001b[0m\u001b[0;34m(\u001b[0m\u001b[0;34m*\u001b[0m\u001b[0minput\u001b[0m\u001b[0;34m,\u001b[0m \u001b[0;34m**\u001b[0m\u001b[0mkwargs\u001b[0m\u001b[0;34m)\u001b[0m\u001b[0;34m\u001b[0m\u001b[0m\n\u001b[0m\u001b[1;32m    533\u001b[0m         \u001b[0;32mfor\u001b[0m \u001b[0mhook\u001b[0m \u001b[0;32min\u001b[0m \u001b[0mself\u001b[0m\u001b[0;34m.\u001b[0m\u001b[0m_forward_hooks\u001b[0m\u001b[0;34m.\u001b[0m\u001b[0mvalues\u001b[0m\u001b[0;34m(\u001b[0m\u001b[0;34m)\u001b[0m\u001b[0;34m:\u001b[0m\u001b[0;34m\u001b[0m\u001b[0m\n\u001b[1;32m    534\u001b[0m             \u001b[0mhook_result\u001b[0m \u001b[0;34m=\u001b[0m \u001b[0mhook\u001b[0m\u001b[0;34m(\u001b[0m\u001b[0mself\u001b[0m\u001b[0;34m,\u001b[0m \u001b[0minput\u001b[0m\u001b[0;34m,\u001b[0m \u001b[0mresult\u001b[0m\u001b[0;34m)\u001b[0m\u001b[0;34m\u001b[0m\u001b[0m\n",
      "\u001b[0;32m/home/agnes/git/udacity-project/venv/lib64/python3.6/site-packages/transformers/modeling_bert.py\u001b[0m in \u001b[0;36mforward\u001b[0;34m(self, hidden_states, attention_mask, head_mask, encoder_hidden_states, encoder_attention_mask)\u001b[0m\n\u001b[1;32m    384\u001b[0m                 \u001b[0mall_hidden_states\u001b[0m \u001b[0;34m=\u001b[0m \u001b[0mall_hidden_states\u001b[0m \u001b[0;34m+\u001b[0m \u001b[0;34m(\u001b[0m\u001b[0mhidden_states\u001b[0m\u001b[0;34m,\u001b[0m\u001b[0;34m)\u001b[0m\u001b[0;34m\u001b[0m\u001b[0m\n\u001b[1;32m    385\u001b[0m \u001b[0;34m\u001b[0m\u001b[0m\n\u001b[0;32m--> 386\u001b[0;31m             \u001b[0mlayer_outputs\u001b[0m \u001b[0;34m=\u001b[0m \u001b[0mlayer_module\u001b[0m\u001b[0;34m(\u001b[0m\u001b[0mhidden_states\u001b[0m\u001b[0;34m,\u001b[0m \u001b[0mattention_mask\u001b[0m\u001b[0;34m,\u001b[0m \u001b[0mhead_mask\u001b[0m\u001b[0;34m[\u001b[0m\u001b[0mi\u001b[0m\u001b[0;34m]\u001b[0m\u001b[0;34m,\u001b[0m \u001b[0mencoder_hidden_states\u001b[0m\u001b[0;34m,\u001b[0m \u001b[0mencoder_attention_mask\u001b[0m\u001b[0;34m)\u001b[0m\u001b[0;34m\u001b[0m\u001b[0m\n\u001b[0m\u001b[1;32m    387\u001b[0m             \u001b[0mhidden_states\u001b[0m \u001b[0;34m=\u001b[0m \u001b[0mlayer_outputs\u001b[0m\u001b[0;34m[\u001b[0m\u001b[0;36m0\u001b[0m\u001b[0;34m]\u001b[0m\u001b[0;34m\u001b[0m\u001b[0m\n\u001b[1;32m    388\u001b[0m \u001b[0;34m\u001b[0m\u001b[0m\n",
      "\u001b[0;32m/home/agnes/git/udacity-project/venv/lib64/python3.6/site-packages/torch/nn/modules/module.py\u001b[0m in \u001b[0;36m__call__\u001b[0;34m(self, *input, **kwargs)\u001b[0m\n\u001b[1;32m    530\u001b[0m             \u001b[0mresult\u001b[0m \u001b[0;34m=\u001b[0m \u001b[0mself\u001b[0m\u001b[0;34m.\u001b[0m\u001b[0m_slow_forward\u001b[0m\u001b[0;34m(\u001b[0m\u001b[0;34m*\u001b[0m\u001b[0minput\u001b[0m\u001b[0;34m,\u001b[0m \u001b[0;34m**\u001b[0m\u001b[0mkwargs\u001b[0m\u001b[0;34m)\u001b[0m\u001b[0;34m\u001b[0m\u001b[0m\n\u001b[1;32m    531\u001b[0m         \u001b[0;32melse\u001b[0m\u001b[0;34m:\u001b[0m\u001b[0;34m\u001b[0m\u001b[0m\n\u001b[0;32m--> 532\u001b[0;31m             \u001b[0mresult\u001b[0m \u001b[0;34m=\u001b[0m \u001b[0mself\u001b[0m\u001b[0;34m.\u001b[0m\u001b[0mforward\u001b[0m\u001b[0;34m(\u001b[0m\u001b[0;34m*\u001b[0m\u001b[0minput\u001b[0m\u001b[0;34m,\u001b[0m \u001b[0;34m**\u001b[0m\u001b[0mkwargs\u001b[0m\u001b[0;34m)\u001b[0m\u001b[0;34m\u001b[0m\u001b[0m\n\u001b[0m\u001b[1;32m    533\u001b[0m         \u001b[0;32mfor\u001b[0m \u001b[0mhook\u001b[0m \u001b[0;32min\u001b[0m \u001b[0mself\u001b[0m\u001b[0;34m.\u001b[0m\u001b[0m_forward_hooks\u001b[0m\u001b[0;34m.\u001b[0m\u001b[0mvalues\u001b[0m\u001b[0;34m(\u001b[0m\u001b[0;34m)\u001b[0m\u001b[0;34m:\u001b[0m\u001b[0;34m\u001b[0m\u001b[0m\n\u001b[1;32m    534\u001b[0m             \u001b[0mhook_result\u001b[0m \u001b[0;34m=\u001b[0m \u001b[0mhook\u001b[0m\u001b[0;34m(\u001b[0m\u001b[0mself\u001b[0m\u001b[0;34m,\u001b[0m \u001b[0minput\u001b[0m\u001b[0;34m,\u001b[0m \u001b[0mresult\u001b[0m\u001b[0;34m)\u001b[0m\u001b[0;34m\u001b[0m\u001b[0m\n",
      "\u001b[0;32m/home/agnes/git/udacity-project/venv/lib64/python3.6/site-packages/transformers/modeling_bert.py\u001b[0m in \u001b[0;36mforward\u001b[0;34m(self, hidden_states, attention_mask, head_mask, encoder_hidden_states, encoder_attention_mask)\u001b[0m\n\u001b[1;32m    364\u001b[0m             \u001b[0moutputs\u001b[0m \u001b[0;34m=\u001b[0m \u001b[0moutputs\u001b[0m \u001b[0;34m+\u001b[0m \u001b[0mcross_attention_outputs\u001b[0m\u001b[0;34m[\u001b[0m\u001b[0;36m1\u001b[0m\u001b[0;34m:\u001b[0m\u001b[0;34m]\u001b[0m  \u001b[0;31m# add cross attentions if we output attention weights\u001b[0m\u001b[0;34m\u001b[0m\u001b[0m\n\u001b[1;32m    365\u001b[0m \u001b[0;34m\u001b[0m\u001b[0m\n\u001b[0;32m--> 366\u001b[0;31m         \u001b[0mintermediate_output\u001b[0m \u001b[0;34m=\u001b[0m \u001b[0mself\u001b[0m\u001b[0;34m.\u001b[0m\u001b[0mintermediate\u001b[0m\u001b[0;34m(\u001b[0m\u001b[0mattention_output\u001b[0m\u001b[0;34m)\u001b[0m\u001b[0;34m\u001b[0m\u001b[0m\n\u001b[0m\u001b[1;32m    367\u001b[0m         \u001b[0mlayer_output\u001b[0m \u001b[0;34m=\u001b[0m \u001b[0mself\u001b[0m\u001b[0;34m.\u001b[0m\u001b[0moutput\u001b[0m\u001b[0;34m(\u001b[0m\u001b[0mintermediate_output\u001b[0m\u001b[0;34m,\u001b[0m \u001b[0mattention_output\u001b[0m\u001b[0;34m)\u001b[0m\u001b[0;34m\u001b[0m\u001b[0m\n\u001b[1;32m    368\u001b[0m         \u001b[0moutputs\u001b[0m \u001b[0;34m=\u001b[0m \u001b[0;34m(\u001b[0m\u001b[0mlayer_output\u001b[0m\u001b[0;34m,\u001b[0m\u001b[0;34m)\u001b[0m \u001b[0;34m+\u001b[0m \u001b[0moutputs\u001b[0m\u001b[0;34m\u001b[0m\u001b[0m\n",
      "\u001b[0;32m/home/agnes/git/udacity-project/venv/lib64/python3.6/site-packages/torch/nn/modules/module.py\u001b[0m in \u001b[0;36m__call__\u001b[0;34m(self, *input, **kwargs)\u001b[0m\n\u001b[1;32m    530\u001b[0m             \u001b[0mresult\u001b[0m \u001b[0;34m=\u001b[0m \u001b[0mself\u001b[0m\u001b[0;34m.\u001b[0m\u001b[0m_slow_forward\u001b[0m\u001b[0;34m(\u001b[0m\u001b[0;34m*\u001b[0m\u001b[0minput\u001b[0m\u001b[0;34m,\u001b[0m \u001b[0;34m**\u001b[0m\u001b[0mkwargs\u001b[0m\u001b[0;34m)\u001b[0m\u001b[0;34m\u001b[0m\u001b[0m\n\u001b[1;32m    531\u001b[0m         \u001b[0;32melse\u001b[0m\u001b[0;34m:\u001b[0m\u001b[0;34m\u001b[0m\u001b[0m\n\u001b[0;32m--> 532\u001b[0;31m             \u001b[0mresult\u001b[0m \u001b[0;34m=\u001b[0m \u001b[0mself\u001b[0m\u001b[0;34m.\u001b[0m\u001b[0mforward\u001b[0m\u001b[0;34m(\u001b[0m\u001b[0;34m*\u001b[0m\u001b[0minput\u001b[0m\u001b[0;34m,\u001b[0m \u001b[0;34m**\u001b[0m\u001b[0mkwargs\u001b[0m\u001b[0;34m)\u001b[0m\u001b[0;34m\u001b[0m\u001b[0m\n\u001b[0m\u001b[1;32m    533\u001b[0m         \u001b[0;32mfor\u001b[0m \u001b[0mhook\u001b[0m \u001b[0;32min\u001b[0m \u001b[0mself\u001b[0m\u001b[0;34m.\u001b[0m\u001b[0m_forward_hooks\u001b[0m\u001b[0;34m.\u001b[0m\u001b[0mvalues\u001b[0m\u001b[0;34m(\u001b[0m\u001b[0;34m)\u001b[0m\u001b[0;34m:\u001b[0m\u001b[0;34m\u001b[0m\u001b[0m\n\u001b[1;32m    534\u001b[0m             \u001b[0mhook_result\u001b[0m \u001b[0;34m=\u001b[0m \u001b[0mhook\u001b[0m\u001b[0;34m(\u001b[0m\u001b[0mself\u001b[0m\u001b[0;34m,\u001b[0m \u001b[0minput\u001b[0m\u001b[0;34m,\u001b[0m \u001b[0mresult\u001b[0m\u001b[0;34m)\u001b[0m\u001b[0;34m\u001b[0m\u001b[0m\n",
      "\u001b[0;32m/home/agnes/git/udacity-project/venv/lib64/python3.6/site-packages/transformers/modeling_bert.py\u001b[0m in \u001b[0;36mforward\u001b[0;34m(self, hidden_states)\u001b[0m\n\u001b[1;32m    325\u001b[0m \u001b[0;34m\u001b[0m\u001b[0m\n\u001b[1;32m    326\u001b[0m     \u001b[0;32mdef\u001b[0m \u001b[0mforward\u001b[0m\u001b[0;34m(\u001b[0m\u001b[0mself\u001b[0m\u001b[0;34m,\u001b[0m \u001b[0mhidden_states\u001b[0m\u001b[0;34m)\u001b[0m\u001b[0;34m:\u001b[0m\u001b[0;34m\u001b[0m\u001b[0m\n\u001b[0;32m--> 327\u001b[0;31m         \u001b[0mhidden_states\u001b[0m \u001b[0;34m=\u001b[0m \u001b[0mself\u001b[0m\u001b[0;34m.\u001b[0m\u001b[0mdense\u001b[0m\u001b[0;34m(\u001b[0m\u001b[0mhidden_states\u001b[0m\u001b[0;34m)\u001b[0m\u001b[0;34m\u001b[0m\u001b[0m\n\u001b[0m\u001b[1;32m    328\u001b[0m         \u001b[0mhidden_states\u001b[0m \u001b[0;34m=\u001b[0m \u001b[0mself\u001b[0m\u001b[0;34m.\u001b[0m\u001b[0mintermediate_act_fn\u001b[0m\u001b[0;34m(\u001b[0m\u001b[0mhidden_states\u001b[0m\u001b[0;34m)\u001b[0m\u001b[0;34m\u001b[0m\u001b[0m\n\u001b[1;32m    329\u001b[0m         \u001b[0;32mreturn\u001b[0m \u001b[0mhidden_states\u001b[0m\u001b[0;34m\u001b[0m\u001b[0m\n",
      "\u001b[0;32m/home/agnes/git/udacity-project/venv/lib64/python3.6/site-packages/torch/nn/modules/module.py\u001b[0m in \u001b[0;36m__call__\u001b[0;34m(self, *input, **kwargs)\u001b[0m\n\u001b[1;32m    530\u001b[0m             \u001b[0mresult\u001b[0m \u001b[0;34m=\u001b[0m \u001b[0mself\u001b[0m\u001b[0;34m.\u001b[0m\u001b[0m_slow_forward\u001b[0m\u001b[0;34m(\u001b[0m\u001b[0;34m*\u001b[0m\u001b[0minput\u001b[0m\u001b[0;34m,\u001b[0m \u001b[0;34m**\u001b[0m\u001b[0mkwargs\u001b[0m\u001b[0;34m)\u001b[0m\u001b[0;34m\u001b[0m\u001b[0m\n\u001b[1;32m    531\u001b[0m         \u001b[0;32melse\u001b[0m\u001b[0;34m:\u001b[0m\u001b[0;34m\u001b[0m\u001b[0m\n\u001b[0;32m--> 532\u001b[0;31m             \u001b[0mresult\u001b[0m \u001b[0;34m=\u001b[0m \u001b[0mself\u001b[0m\u001b[0;34m.\u001b[0m\u001b[0mforward\u001b[0m\u001b[0;34m(\u001b[0m\u001b[0;34m*\u001b[0m\u001b[0minput\u001b[0m\u001b[0;34m,\u001b[0m \u001b[0;34m**\u001b[0m\u001b[0mkwargs\u001b[0m\u001b[0;34m)\u001b[0m\u001b[0;34m\u001b[0m\u001b[0m\n\u001b[0m\u001b[1;32m    533\u001b[0m         \u001b[0;32mfor\u001b[0m \u001b[0mhook\u001b[0m \u001b[0;32min\u001b[0m \u001b[0mself\u001b[0m\u001b[0;34m.\u001b[0m\u001b[0m_forward_hooks\u001b[0m\u001b[0;34m.\u001b[0m\u001b[0mvalues\u001b[0m\u001b[0;34m(\u001b[0m\u001b[0;34m)\u001b[0m\u001b[0;34m:\u001b[0m\u001b[0;34m\u001b[0m\u001b[0m\n\u001b[1;32m    534\u001b[0m             \u001b[0mhook_result\u001b[0m \u001b[0;34m=\u001b[0m \u001b[0mhook\u001b[0m\u001b[0;34m(\u001b[0m\u001b[0mself\u001b[0m\u001b[0;34m,\u001b[0m \u001b[0minput\u001b[0m\u001b[0;34m,\u001b[0m \u001b[0mresult\u001b[0m\u001b[0;34m)\u001b[0m\u001b[0;34m\u001b[0m\u001b[0m\n",
      "\u001b[0;32m/home/agnes/git/udacity-project/venv/lib64/python3.6/site-packages/torch/nn/modules/linear.py\u001b[0m in \u001b[0;36mforward\u001b[0;34m(self, input)\u001b[0m\n\u001b[1;32m     85\u001b[0m \u001b[0;34m\u001b[0m\u001b[0m\n\u001b[1;32m     86\u001b[0m     \u001b[0;32mdef\u001b[0m \u001b[0mforward\u001b[0m\u001b[0;34m(\u001b[0m\u001b[0mself\u001b[0m\u001b[0;34m,\u001b[0m \u001b[0minput\u001b[0m\u001b[0;34m)\u001b[0m\u001b[0;34m:\u001b[0m\u001b[0;34m\u001b[0m\u001b[0m\n\u001b[0;32m---> 87\u001b[0;31m         \u001b[0;32mreturn\u001b[0m \u001b[0mF\u001b[0m\u001b[0;34m.\u001b[0m\u001b[0mlinear\u001b[0m\u001b[0;34m(\u001b[0m\u001b[0minput\u001b[0m\u001b[0;34m,\u001b[0m \u001b[0mself\u001b[0m\u001b[0;34m.\u001b[0m\u001b[0mweight\u001b[0m\u001b[0;34m,\u001b[0m \u001b[0mself\u001b[0m\u001b[0;34m.\u001b[0m\u001b[0mbias\u001b[0m\u001b[0;34m)\u001b[0m\u001b[0;34m\u001b[0m\u001b[0m\n\u001b[0m\u001b[1;32m     88\u001b[0m \u001b[0;34m\u001b[0m\u001b[0m\n\u001b[1;32m     89\u001b[0m     \u001b[0;32mdef\u001b[0m \u001b[0mextra_repr\u001b[0m\u001b[0;34m(\u001b[0m\u001b[0mself\u001b[0m\u001b[0;34m)\u001b[0m\u001b[0;34m:\u001b[0m\u001b[0;34m\u001b[0m\u001b[0m\n",
      "\u001b[0;32m/home/agnes/git/udacity-project/venv/lib64/python3.6/site-packages/torch/nn/functional.py\u001b[0m in \u001b[0;36mlinear\u001b[0;34m(input, weight, bias)\u001b[0m\n\u001b[1;32m   1370\u001b[0m         \u001b[0mret\u001b[0m \u001b[0;34m=\u001b[0m \u001b[0mtorch\u001b[0m\u001b[0;34m.\u001b[0m\u001b[0maddmm\u001b[0m\u001b[0;34m(\u001b[0m\u001b[0mbias\u001b[0m\u001b[0;34m,\u001b[0m \u001b[0minput\u001b[0m\u001b[0;34m,\u001b[0m \u001b[0mweight\u001b[0m\u001b[0;34m.\u001b[0m\u001b[0mt\u001b[0m\u001b[0;34m(\u001b[0m\u001b[0;34m)\u001b[0m\u001b[0;34m)\u001b[0m\u001b[0;34m\u001b[0m\u001b[0m\n\u001b[1;32m   1371\u001b[0m     \u001b[0;32melse\u001b[0m\u001b[0;34m:\u001b[0m\u001b[0;34m\u001b[0m\u001b[0m\n\u001b[0;32m-> 1372\u001b[0;31m         \u001b[0moutput\u001b[0m \u001b[0;34m=\u001b[0m \u001b[0minput\u001b[0m\u001b[0;34m.\u001b[0m\u001b[0mmatmul\u001b[0m\u001b[0;34m(\u001b[0m\u001b[0mweight\u001b[0m\u001b[0;34m.\u001b[0m\u001b[0mt\u001b[0m\u001b[0;34m(\u001b[0m\u001b[0;34m)\u001b[0m\u001b[0;34m)\u001b[0m\u001b[0;34m\u001b[0m\u001b[0m\n\u001b[0m\u001b[1;32m   1373\u001b[0m         \u001b[0;32mif\u001b[0m \u001b[0mbias\u001b[0m \u001b[0;32mis\u001b[0m \u001b[0;32mnot\u001b[0m \u001b[0;32mNone\u001b[0m\u001b[0;34m:\u001b[0m\u001b[0;34m\u001b[0m\u001b[0m\n\u001b[1;32m   1374\u001b[0m             \u001b[0moutput\u001b[0m \u001b[0;34m+=\u001b[0m \u001b[0mbias\u001b[0m\u001b[0;34m\u001b[0m\u001b[0m\n",
      "\u001b[0;31mKeyboardInterrupt\u001b[0m: "
     ]
    }
   ],
   "source": [
    "model_1.fit(train_objectives=[(train_dataloader, train_loss)],\n",
    "          evaluator=BinaryEmbeddingSimilarityEvaluator,\n",
    "          epochs=num_epochs,\n",
    "          steps_per_epoch=100,\n",
    "          warmup_steps=warmup_steps,\n",
    "          optimizer_class=optimizer_class,\n",
    "          optimizer_params=optimizer_params,\n",
    "          output_path=my_output_path) # works only when you have an evaluator"
   ]
  },
  {
   "cell_type": "code",
   "execution_count": null,
   "metadata": {},
   "outputs": [],
   "source": [
    "model_1.evaluate(evaluator)\n"
   ]
  },
  {
   "cell_type": "code",
   "execution_count": 17,
   "metadata": {
    "scrolled": true
   },
   "outputs": [],
   "source": [
    "#model_1.save(my_output_path)"
   ]
  },
  {
   "cell_type": "code",
   "execution_count": 18,
   "metadata": {
    "scrolled": true
   },
   "outputs": [],
   "source": [
    "# load model\n",
    "# model_1 = SentenceTransformer(my_output_path)"
   ]
  },
  {
   "cell_type": "code",
   "execution_count": 19,
   "metadata": {
    "scrolled": true
   },
   "outputs": [
    {
     "data": {
      "text/plain": [
       "array([0.27484048, 0.14570002])"
      ]
     },
     "execution_count": 19,
     "metadata": {},
     "output_type": "execute_result"
    }
   ],
   "source": [
    "embeddings = model_1.encode(sentences)\n",
    "sims = cdist(embeddings[0].reshape(-1,1).T, embeddings[1:], \"cosine\")[0]\n",
    "sims"
   ]
  }
 ],
 "metadata": {
  "kernelspec": {
   "display_name": "udacity-project",
   "language": "python",
   "name": "udacity-project"
  },
  "language_info": {
   "codemirror_mode": {
    "name": "ipython",
    "version": 3
   },
   "file_extension": ".py",
   "mimetype": "text/x-python",
   "name": "python",
   "nbconvert_exporter": "python",
   "pygments_lexer": "ipython3",
   "version": "3.6.5"
  }
 },
 "nbformat": 4,
 "nbformat_minor": 4
}
