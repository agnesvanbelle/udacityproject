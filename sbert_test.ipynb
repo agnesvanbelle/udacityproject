{
 "cells": [
  {
   "cell_type": "code",
   "execution_count": 1,
   "metadata": {},
   "outputs": [],
   "source": [
    "from sentence_transformers import SentenceTransformer, LoggingHandler\n",
    "import numpy as np"
   ]
  },
  {
   "cell_type": "code",
   "execution_count": 3,
   "metadata": {},
   "outputs": [
    {
     "name": "stderr",
     "output_type": "stream",
     "text": [
      "100%|██████████| 405M/405M [01:08<00:00, 5.89MB/s] \n"
     ]
    }
   ],
   "source": [
    "model = SentenceTransformer('bert-base-nli-mean-tokens')\n"
   ]
  },
  {
   "cell_type": "code",
   "execution_count": 28,
   "metadata": {},
   "outputs": [],
   "source": [
    "sentences = ['can polycythemia cause stroke', \n",
    "    'Thrombotic strokes can affect large or small arteries in the brain. When a thrombotic stroke occurs in a small artery deep within the brain, the stroke is called a lacunar stroke. Embolic strokes - In an embolic stroke, a blood clot or other solid mass of debris travels to the brain, where it blocks a brain artery.',\n",
    "     \"Menstrual bleeding usually results from a decrease in natural hormone levels about 14 days after the ovulation, if you're not pregnant. The average woman takes one month to three months to start ovulating again after stopping the pill. Sometimes ovulation may occur sooner; other times, it may take longer.f you don't get your period for some time after stopping the pill chances are that you are either pregnant (do a pregnancy test!) or you did not ovulate. Even without getting your period first there might be a chance you are pregnant.\",\n",
    "     \"ice cream\"]\n",
    "sentence_embeddings = model.encode(sentences)"
   ]
  },
  {
   "cell_type": "code",
   "execution_count": 29,
   "metadata": {},
   "outputs": [
    {
     "data": {
      "text/plain": [
       "4"
      ]
     },
     "execution_count": 29,
     "metadata": {},
     "output_type": "execute_result"
    }
   ],
   "source": [
    "len(sentence_embeddings)"
   ]
  },
  {
   "cell_type": "code",
   "execution_count": 30,
   "metadata": {},
   "outputs": [
    {
     "data": {
      "text/plain": [
       "(768,)"
      ]
     },
     "execution_count": 30,
     "metadata": {},
     "output_type": "execute_result"
    }
   ],
   "source": [
    "sentence_embeddings[1].shape"
   ]
  },
  {
   "cell_type": "code",
   "execution_count": 31,
   "metadata": {},
   "outputs": [
    {
     "name": "stdout",
     "output_type": "stream",
     "text": [
      "Sentence: can polycythemia cause stroke\n",
      "Embedding: (768,)\n",
      "\n",
      "Sentence: Thrombotic strokes can affect large or small arteries in the brain. When a thrombotic stroke occurs in a small artery deep within the brain, the stroke is called a lacunar stroke. Embolic strokes - In an embolic stroke, a blood clot or other solid mass of debris travels to the brain, where it blocks a brain artery.\n",
      "Embedding: (768,)\n",
      "\n",
      "Sentence: Menstrual bleeding usually results from a decrease in natural hormone levels about 14 days after the ovulation, if you're not pregnant. The average woman takes one month to three months to start ovulating again after stopping the pill. Sometimes ovulation may occur sooner; other times, it may take longer.f you don't get your period for some time after stopping the pill chances are that you are either pregnant (do a pregnancy test!) or you did not ovulate. Even without getting your period first there might be a chance you are pregnant.\n",
      "Embedding: (768,)\n",
      "\n",
      "Sentence: ice cream\n",
      "Embedding: (768,)\n",
      "\n"
     ]
    }
   ],
   "source": [
    "for sentence, embedding in zip(sentences, sentence_embeddings):\n",
    "    print(\"Sentence:\", sentence)\n",
    "    print(\"Embedding:\", embedding.shape)\n",
    "    print(\"\")"
   ]
  },
  {
   "cell_type": "code",
   "execution_count": 32,
   "metadata": {},
   "outputs": [
    {
     "data": {
      "text/plain": [
       "(768,)"
      ]
     },
     "execution_count": 32,
     "metadata": {},
     "output_type": "execute_result"
    }
   ],
   "source": [
    "sentence_embeddings[0].shape"
   ]
  },
  {
   "cell_type": "code",
   "execution_count": null,
   "metadata": {},
   "outputs": [],
   "source": [
    "# Evaluation below"
   ]
  },
  {
   "cell_type": "code",
   "execution_count": 33,
   "metadata": {},
   "outputs": [],
   "source": [
    "from sklearn.metrics.pairwise import cosine_similarity"
   ]
  },
  {
   "cell_type": "code",
   "execution_count": 34,
   "metadata": {},
   "outputs": [
    {
     "data": {
      "text/plain": [
       "array([[0.6045091 , 0.4425732 , 0.12299903]], dtype=float32)"
      ]
     },
     "execution_count": 34,
     "metadata": {},
     "output_type": "execute_result"
    }
   ],
   "source": [
    "cosine_similarity(sentence_embeddings[0].reshape(-1,1).T, Y=sentence_embeddings[1:])"
   ]
  },
  {
   "cell_type": "code",
   "execution_count": 126,
   "metadata": {},
   "outputs": [],
   "source": [
    "import pandas as pd"
   ]
  },
  {
   "cell_type": "code",
   "execution_count": 185,
   "metadata": {},
   "outputs": [
    {
     "data": {
      "text/html": [
       "<div>\n",
       "<style scoped>\n",
       "    .dataframe tbody tr th:only-of-type {\n",
       "        vertical-align: middle;\n",
       "    }\n",
       "\n",
       "    .dataframe tbody tr th {\n",
       "        vertical-align: top;\n",
       "    }\n",
       "\n",
       "    .dataframe thead th {\n",
       "        text-align: right;\n",
       "    }\n",
       "</style>\n",
       "<table border=\"1\" class=\"dataframe\">\n",
       "  <thead>\n",
       "    <tr style=\"text-align: right;\">\n",
       "      <th></th>\n",
       "      <th>qid</th>\n",
       "      <th>query</th>\n",
       "      <th>rel</th>\n",
       "      <th>type</th>\n",
       "      <th>doc</th>\n",
       "    </tr>\n",
       "  </thead>\n",
       "  <tbody>\n",
       "    <tr>\n",
       "      <th>0</th>\n",
       "      <td>0</td>\n",
       "      <td>are cnn ratings falling</td>\n",
       "      <td>0</td>\n",
       "      <td>original</td>\n",
       "      <td>Mustard greens are also a good food choice for...</td>\n",
       "    </tr>\n",
       "    <tr>\n",
       "      <th>1</th>\n",
       "      <td>0</td>\n",
       "      <td>are cnn ratings falling</td>\n",
       "      <td>0</td>\n",
       "      <td>original</td>\n",
       "      <td>The only concessions Jay obtained was a surren...</td>\n",
       "    </tr>\n",
       "    <tr>\n",
       "      <th>2</th>\n",
       "      <td>0</td>\n",
       "      <td>are cnn ratings falling</td>\n",
       "      <td>0</td>\n",
       "      <td>original</td>\n",
       "      <td>Allen: Constitution Prevails Over President's ...</td>\n",
       "    </tr>\n",
       "  </tbody>\n",
       "</table>\n",
       "</div>"
      ],
      "text/plain": [
       "   qid                    query  rel      type  \\\n",
       "0    0  are cnn ratings falling    0  original   \n",
       "1    0  are cnn ratings falling    0  original   \n",
       "2    0  are cnn ratings falling    0  original   \n",
       "\n",
       "                                                 doc  \n",
       "0  Mustard greens are also a good food choice for...  \n",
       "1  The only concessions Jay obtained was a surren...  \n",
       "2  Allen: Constitution Prevails Over President's ...  "
      ]
     },
     "execution_count": 185,
     "metadata": {},
     "output_type": "execute_result"
    }
   ],
   "source": [
    "queries_file= '/run/media/root/Windows/Users/agnes/Downloads/data/msmarco/queries_od.csv'\n",
    "\n",
    "df = pd.read_csv(queries_file)\n",
    "\n",
    "df.head(3)"
   ]
  },
  {
   "cell_type": "code",
   "execution_count": 154,
   "metadata": {},
   "outputs": [],
   "source": [
    "def calc_rr(rels_sorted, types_sorted, ttype='original', rel_label=1):\n",
    "    indices = np.where(rels_sorted == rel_label)[0]\n",
    "    #print(indices)\n",
    "    original = np.where(types_sorted[indices] == ttype)[0]\n",
    "    if len(original) == 0:\n",
    "        raise Exception('no relevant docs of this type')\n",
    "    return np.mean(1 / (indices[original]+1))\n"
   ]
  },
  {
   "cell_type": "code",
   "execution_count": null,
   "metadata": {
    "scrolled": true
   },
   "outputs": [
    {
     "name": "stdout",
     "output_type": "stream",
     "text": [
      "query: are cnn ratings falling\n",
      "query: can polycythemia cause stroke\n",
      "query: cancer of the pancreas symptoms\n",
      "query: amnesty define\n",
      "query: can you have a high magnesium with high calcium\n",
      "query: an electron group is defined as\n",
      "query: can you get pregnant day one of your period\n",
      "query: can ciprofloxacin be used to treat pneumonia\n",
      "query: are most favored nation clauses legal\n",
      "query: amnesty definition\n",
      "query: how large is the canadian military\n",
      "query: how much does it cost to run lines from heat pump\n",
      "query: does cost less to run a heat pump\n",
      "query: cost to install struts\n",
      "query: average life of well pump\n",
      "query: average cost to install fiber cement siding\n",
      "query: cost of vacuum pump oil\n",
      "query: cost to install a pond\n",
      "query: american insulin pump cost\n",
      "query: cost of a fire pit\n",
      "query: foods that will help lower blood sugar\n",
      "query: cost to install glued down carpet\n",
      "query: cost of installing backup sump pump\n",
      "query: what would it cost to install and buy a remote starter\n",
      "query: how much does it cost to replace a bmw water pump\n",
      "query: is it allowed to drain sanitary sewer into sump pit\n",
      "query: what is the labor cost to replace a sump pump\n",
      "query: how much to change a water pump\n",
      "query: average cost of patio installed\n",
      "query: how much does a lift kit cost to install\n",
      "query: cost of nuvo home water system\n",
      "query: average cost of installed double hung window\n",
      "query: cost to install office cubicle\n",
      "query: cost of putting in a power steering pump\n",
      "query: pump runout definition\n",
      "query: average cost of a home at the villages fl\n",
      "query: cost to install a bidet\n",
      "query: average cost to install a water softener\n",
      "query: average cost to install water line to new additions\n",
      "query: how much does it cost to install a alternator\n",
      "query: average cost of heat pump system and installation\n",
      "query: what is desoldering pump\n",
      "query: average cost of heat pump and furnace with installation\n",
      "query: how much does it cost to replace an oil pump on a passat\n",
      "query: cost to install new toilet\n",
      "query: average cost of a sump pump\n",
      "query: cost to do AC heat pump\n",
      "query: cost to install mobile home skirting\n",
      "query: how to install a lockset\n",
      "query: cost to install a sump pump\n",
      "query: average cost to install sod\n",
      "query: what is a slurry pump used for\n",
      "query: average cost of sump pump\n",
      "query: average cost of to install a corian countertop\n",
      "query: what is aodd pump\n",
      "query: cost of heat pump and installation\n",
      "query: cost of new heat pump\n",
      "query: ferdinand digital release date\n",
      "query: average cost to rewire a levittown pa home\n",
      "query: what is a play pump\n",
      "query: average home cost in cape girardeau mo\n",
      "query: how much does a turf field cost to install\n",
      "query: cost to install grab bars\n",
      "query: cost of battery backup sump pump\n",
      "query: how much does it cost to install new backsplash\n",
      "query: plumbers fees per hour\n",
      "query: average cost to move an office\n",
      "query: findlay home cost average\n",
      "query: average labor cost to install p trap under sink\n",
      "query: cost to install water pressure regulator\n",
      "query: plumbers cost for dripping toilet\n",
      "query: how long it takes to get a debit memo at uop\n"
     ]
    }
   ],
   "source": [
    "\n",
    "types = ['original', 'degree_2', 'degree_3', 'degree_4', 'degree_4_split', 'degree_8', 'degree_8_split']\n",
    "\n",
    "rr_df = pd.DataFrame(columns=['qid'] + types + ['original_irrelevant'])\n",
    "\n",
    "qids = list(set(df['qid']))\n",
    "nr_qids = len(qids)\n",
    "for i, qid in enumerate(qids):\n",
    "    query_df = df[df['qid'] == qid].reset_index(drop=True)\n",
    "    query = query_df['query'].iloc[0]\n",
    "    print('query:', query)\n",
    "    rels = query_df[query_df['rel'] == 1]['doc'].values.tolist()\n",
    "   \n",
    "    # TODO: abstract ranking part out\n",
    "    ###\n",
    "    embeddings = model.encode([query] + query_df['doc'].values.tolist())\n",
    "    \n",
    "    sims = cosine_similarity(embeddings[0].reshape(-1,1).T, \n",
    "                      Y=embeddings[1:])    \n",
    "    indexed_sims = enumerate(sims.squeeze())   \n",
    "    indexed_sims_sorted = sorted(indexed_sims, key=lambda x:x[1], reverse=True)\n",
    "    indices_sorted = [x[0] for x in indexed_sims_sorted]\n",
    "    ####\n",
    "    \n",
    "    docs_sorted = query_df.iloc[indices_sorted]\n",
    "    \n",
    "    row_to_add = [qid]\n",
    "    for ttype in types:\n",
    "        row_to_add.append(calc_rr(docs_sorted['rel'].values, docs_sorted['type'].values, ttype=ttype))\n",
    "    row_to_add.append(calc_rr(docs_sorted['rel'].values, docs_sorted['type'].values, ttype='original', \n",
    "                      rel_label=0))\n",
    "    rr_df = rr_df.append(pd.Series(row_to_add, index=rr_df.columns), ignore_index=True)\n",
    "    \n",
    "    if i % 5 ==  0:\n",
    "        print('processed {:d} of {:d}'.format(i, nr_qids)\n",
    "rr_df"
   ]
  },
  {
   "cell_type": "code",
   "execution_count": 156,
   "metadata": {},
   "outputs": [
    {
     "data": {
      "text/html": [
       "<div>\n",
       "<style scoped>\n",
       "    .dataframe tbody tr th:only-of-type {\n",
       "        vertical-align: middle;\n",
       "    }\n",
       "\n",
       "    .dataframe tbody tr th {\n",
       "        vertical-align: top;\n",
       "    }\n",
       "\n",
       "    .dataframe thead th {\n",
       "        text-align: right;\n",
       "    }\n",
       "</style>\n",
       "<table border=\"1\" class=\"dataframe\">\n",
       "  <thead>\n",
       "    <tr style=\"text-align: right;\">\n",
       "      <th></th>\n",
       "      <th>qid</th>\n",
       "      <th>original</th>\n",
       "      <th>degree_2</th>\n",
       "      <th>degree_3</th>\n",
       "      <th>degree_4</th>\n",
       "      <th>degree_4_split</th>\n",
       "      <th>degree_8</th>\n",
       "      <th>degree_8_split</th>\n",
       "      <th>original_irrelevant</th>\n",
       "    </tr>\n",
       "  </thead>\n",
       "  <tbody>\n",
       "    <tr>\n",
       "      <th>count</th>\n",
       "      <td>20.00000</td>\n",
       "      <td>20.000000</td>\n",
       "      <td>20.000000</td>\n",
       "      <td>20.000000</td>\n",
       "      <td>20.000000</td>\n",
       "      <td>20.000000</td>\n",
       "      <td>20.000000</td>\n",
       "      <td>20.000000</td>\n",
       "      <td>20.000000</td>\n",
       "    </tr>\n",
       "    <tr>\n",
       "      <th>mean</th>\n",
       "      <td>9.50000</td>\n",
       "      <td>0.467557</td>\n",
       "      <td>0.184955</td>\n",
       "      <td>0.176247</td>\n",
       "      <td>0.115103</td>\n",
       "      <td>0.102438</td>\n",
       "      <td>0.070141</td>\n",
       "      <td>0.119428</td>\n",
       "      <td>0.049183</td>\n",
       "    </tr>\n",
       "    <tr>\n",
       "      <th>std</th>\n",
       "      <td>5.91608</td>\n",
       "      <td>0.304147</td>\n",
       "      <td>0.091714</td>\n",
       "      <td>0.118277</td>\n",
       "      <td>0.091773</td>\n",
       "      <td>0.044782</td>\n",
       "      <td>0.059965</td>\n",
       "      <td>0.108900</td>\n",
       "      <td>0.019659</td>\n",
       "    </tr>\n",
       "    <tr>\n",
       "      <th>min</th>\n",
       "      <td>0.00000</td>\n",
       "      <td>0.034483</td>\n",
       "      <td>0.075241</td>\n",
       "      <td>0.061609</td>\n",
       "      <td>0.037288</td>\n",
       "      <td>0.046901</td>\n",
       "      <td>0.035789</td>\n",
       "      <td>0.032058</td>\n",
       "      <td>0.035390</td>\n",
       "    </tr>\n",
       "    <tr>\n",
       "      <th>25%</th>\n",
       "      <td>4.75000</td>\n",
       "      <td>0.250000</td>\n",
       "      <td>0.119042</td>\n",
       "      <td>0.096104</td>\n",
       "      <td>0.050766</td>\n",
       "      <td>0.066108</td>\n",
       "      <td>0.043223</td>\n",
       "      <td>0.050319</td>\n",
       "      <td>0.039782</td>\n",
       "    </tr>\n",
       "    <tr>\n",
       "      <th>50%</th>\n",
       "      <td>9.50000</td>\n",
       "      <td>0.416667</td>\n",
       "      <td>0.154691</td>\n",
       "      <td>0.130506</td>\n",
       "      <td>0.075030</td>\n",
       "      <td>0.088704</td>\n",
       "      <td>0.051824</td>\n",
       "      <td>0.071108</td>\n",
       "      <td>0.044247</td>\n",
       "    </tr>\n",
       "    <tr>\n",
       "      <th>75%</th>\n",
       "      <td>14.25000</td>\n",
       "      <td>0.500000</td>\n",
       "      <td>0.221698</td>\n",
       "      <td>0.193943</td>\n",
       "      <td>0.147848</td>\n",
       "      <td>0.121670</td>\n",
       "      <td>0.071777</td>\n",
       "      <td>0.123511</td>\n",
       "      <td>0.046882</td>\n",
       "    </tr>\n",
       "    <tr>\n",
       "      <th>max</th>\n",
       "      <td>19.00000</td>\n",
       "      <td>1.000000</td>\n",
       "      <td>0.365278</td>\n",
       "      <td>0.437500</td>\n",
       "      <td>0.334138</td>\n",
       "      <td>0.205449</td>\n",
       "      <td>0.309731</td>\n",
       "      <td>0.422619</td>\n",
       "      <td>0.117708</td>\n",
       "    </tr>\n",
       "  </tbody>\n",
       "</table>\n",
       "</div>"
      ],
      "text/plain": [
       "            qid   original   degree_2   degree_3   degree_4  degree_4_split  \\\n",
       "count  20.00000  20.000000  20.000000  20.000000  20.000000       20.000000   \n",
       "mean    9.50000   0.467557   0.184955   0.176247   0.115103        0.102438   \n",
       "std     5.91608   0.304147   0.091714   0.118277   0.091773        0.044782   \n",
       "min     0.00000   0.034483   0.075241   0.061609   0.037288        0.046901   \n",
       "25%     4.75000   0.250000   0.119042   0.096104   0.050766        0.066108   \n",
       "50%     9.50000   0.416667   0.154691   0.130506   0.075030        0.088704   \n",
       "75%    14.25000   0.500000   0.221698   0.193943   0.147848        0.121670   \n",
       "max    19.00000   1.000000   0.365278   0.437500   0.334138        0.205449   \n",
       "\n",
       "        degree_8  degree_8_split  original_irrelevant  \n",
       "count  20.000000       20.000000            20.000000  \n",
       "mean    0.070141        0.119428             0.049183  \n",
       "std     0.059965        0.108900             0.019659  \n",
       "min     0.035789        0.032058             0.035390  \n",
       "25%     0.043223        0.050319             0.039782  \n",
       "50%     0.051824        0.071108             0.044247  \n",
       "75%     0.071777        0.123511             0.046882  \n",
       "max     0.309731        0.422619             0.117708  "
      ]
     },
     "execution_count": 156,
     "metadata": {},
     "output_type": "execute_result"
    }
   ],
   "source": [
    "rr_df.describe()"
   ]
  },
  {
   "cell_type": "code",
   "execution_count": 184,
   "metadata": {},
   "outputs": [
    {
     "name": "stdout",
     "output_type": "stream",
     "text": [
      "['original', 'degree_2', 'degree_3', 'degree_4', 'degree_8', 'original_irrelevant']\n",
      "\n"
     ]
    },
    {
     "data": {
      "image/png": "[encoded data removed]",
      "text/plain": [
       "<Figure size 864x576 with 1 Axes>"
      ]
     },
     "metadata": {},
     "output_type": "display_data"
    }
   ],
   "source": [
    "cols = ['original'] + \\\n",
    "       [x for x in rr_df.columns if x.startswith('degree_') and not x.endswith('split')] + \\\n",
    "       ['original_irrelevant']\n",
    "\n",
    "\n",
    "print(cols)\n",
    "rr_df_melted = pd.melt(rr_df, id_vars=['qid'], value_vars=cols)\n",
    "\n",
    "import seaborn as sns\n",
    "import matplotlib.pyplot as plt\n",
    "\n",
    "plt.style.use('fivethirtyeight')\n",
    "plt.rcParams['lines.linewidth'] =  1.6\n",
    "\n",
    "plt.figure(figsize=(12,8))\n",
    "ax = sns.boxplot(x=\"variable\", y=\"value\", data=rr_df_melted, palette=\"colorblind\")\n",
    "ax.set_xticklabels(ax.get_xticklabels(),rotation=30, horizontalalignment='right')\n",
    "print()"
   ]
  },
  {
   "cell_type": "code",
   "execution_count": null,
   "metadata": {},
   "outputs": [],
   "source": []
  }
 ],
 "metadata": {
  "kernelspec": {
   "display_name": "udacity-project",
   "language": "python",
   "name": "udacity-project"
  },
  "language_info": {
   "codemirror_mode": {
    "name": "ipython",
    "version": 3
   },
   "file_extension": ".py",
   "mimetype": "text/x-python",
   "name": "python",
   "nbconvert_exporter": "python",
   "pygments_lexer": "ipython3",
   "version": "3.6.5"
  }
 },
 "nbformat": 4,
 "nbformat_minor": 4
}
