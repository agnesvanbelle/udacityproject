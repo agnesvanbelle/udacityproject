{
 "cells": [
  {
   "cell_type": "code",
   "execution_count": 1,
   "metadata": {},
   "outputs": [],
   "source": [
    "# always reload an imported module before executing a particular cell\n",
    "# (used to let changes in python files take effect without restarting kernel)\n",
    "%load_ext autoreload\n",
    "%autoreload 2\n"
   ]
  },
  {
   "cell_type": "code",
   "execution_count": 2,
   "metadata": {},
   "outputs": [],
   "source": [
    "from sentence_transformers import SentenceTransformer, LoggingHandler\n",
    "import numpy as np\n",
    "import os\n",
    "import pandas as pd"
   ]
  },
  {
   "cell_type": "code",
   "execution_count": 3,
   "metadata": {},
   "outputs": [],
   "source": [
    "model = SentenceTransformer('bert-base-nli-mean-tokens')\n"
   ]
  },
  {
   "cell_type": "code",
   "execution_count": 4,
   "metadata": {},
   "outputs": [],
   "source": [
    "sentences = ['can polycythemia cause stroke', \n",
    "    'Thrombotic strokes can affect large or small arteries in the brain. When a thrombotic stroke occurs in a small artery deep within the brain, the stroke is called a lacunar stroke. Embolic strokes - In an embolic stroke, a blood clot or other solid mass of debris travels to the brain, where it blocks a brain artery.',\n",
    "     \"Menstrual bleeding usually results from a decrease in natural hormone levels about 14 days after the ovulation, if you're not pregnant. The average woman takes one month to three months to start ovulating again after stopping the pill. Sometimes ovulation may occur sooner; other times, it may take longer.f you don't get your period for some time after stopping the pill chances are that you are either pregnant (do a pregnancy test!) or you did not ovulate. Even without getting your period first there might be a chance you are pregnant.\",\n",
    "     \"ice cream\"]\n",
    "sentence_embeddings = model.encode(sentences)"
   ]
  },
  {
   "cell_type": "code",
   "execution_count": 5,
   "metadata": {},
   "outputs": [
    {
     "data": {
      "text/plain": [
       "4"
      ]
     },
     "execution_count": 5,
     "metadata": {},
     "output_type": "execute_result"
    }
   ],
   "source": [
    "len(sentence_embeddings)"
   ]
  },
  {
   "cell_type": "code",
   "execution_count": 6,
   "metadata": {},
   "outputs": [
    {
     "data": {
      "text/plain": [
       "(768,)"
      ]
     },
     "execution_count": 6,
     "metadata": {},
     "output_type": "execute_result"
    }
   ],
   "source": [
    "sentence_embeddings[1].shape"
   ]
  },
  {
   "cell_type": "code",
   "execution_count": 7,
   "metadata": {},
   "outputs": [
    {
     "name": "stdout",
     "output_type": "stream",
     "text": [
      "Sentence: can polycythemia cause stroke\n",
      "Embedding: (768,)\n",
      "\n",
      "Sentence: Thrombotic strokes can affect large or small arteries in the brain. When a thrombotic stroke occurs in a small artery deep within the brain, the stroke is called a lacunar stroke. Embolic strokes - In an embolic stroke, a blood clot or other solid mass of debris travels to the brain, where it blocks a brain artery.\n",
      "Embedding: (768,)\n",
      "\n",
      "Sentence: Menstrual bleeding usually results from a decrease in natural hormone levels about 14 days after the ovulation, if you're not pregnant. The average woman takes one month to three months to start ovulating again after stopping the pill. Sometimes ovulation may occur sooner; other times, it may take longer.f you don't get your period for some time after stopping the pill chances are that you are either pregnant (do a pregnancy test!) or you did not ovulate. Even without getting your period first there might be a chance you are pregnant.\n",
      "Embedding: (768,)\n",
      "\n",
      "Sentence: ice cream\n",
      "Embedding: (768,)\n",
      "\n"
     ]
    }
   ],
   "source": [
    "for sentence, embedding in zip(sentences, sentence_embeddings):\n",
    "    print(\"Sentence:\", sentence)\n",
    "    print(\"Embedding:\", embedding.shape)\n",
    "    print(\"\")"
   ]
  },
  {
   "cell_type": "code",
   "execution_count": 8,
   "metadata": {},
   "outputs": [
    {
     "data": {
      "text/plain": [
       "(768,)"
      ]
     },
     "execution_count": 8,
     "metadata": {},
     "output_type": "execute_result"
    }
   ],
   "source": [
    "sentence_embeddings[0].shape"
   ]
  },
  {
   "cell_type": "code",
   "execution_count": 9,
   "metadata": {},
   "outputs": [],
   "source": [
    "# Evaluation below"
   ]
  },
  {
   "cell_type": "code",
   "execution_count": 10,
   "metadata": {},
   "outputs": [],
   "source": [
    "from sklearn.metrics.pairwise import cosine_similarity"
   ]
  },
  {
   "cell_type": "code",
   "execution_count": 11,
   "metadata": {},
   "outputs": [
    {
     "data": {
      "text/plain": [
       "array([[0.6045091 , 0.4425732 , 0.12299903]], dtype=float32)"
      ]
     },
     "execution_count": 11,
     "metadata": {},
     "output_type": "execute_result"
    }
   ],
   "source": [
    "cosine_similarity(sentence_embeddings[0].reshape(-1,1).T, Y=sentence_embeddings[1:])"
   ]
  },
  {
   "cell_type": "code",
   "execution_count": 12,
   "metadata": {},
   "outputs": [],
   "source": [
    "from scipy.spatial.distance import cdist"
   ]
  },
  {
   "cell_type": "code",
   "execution_count": 13,
   "metadata": {},
   "outputs": [
    {
     "data": {
      "text/plain": [
       "array([0.39549089, 0.55742685, 0.87700098])"
      ]
     },
     "execution_count": 13,
     "metadata": {},
     "output_type": "execute_result"
    }
   ],
   "source": [
    "cdist(sentence_embeddings[0].reshape(-1,1).T, \n",
    "                             sentence_embeddings[1:], \"cosine\")[0]"
   ]
  },
  {
   "cell_type": "code",
   "execution_count": 14,
   "metadata": {},
   "outputs": [
    {
     "data": {
      "text/html": [
       "<div>\n",
       "<style scoped>\n",
       "    .dataframe tbody tr th:only-of-type {\n",
       "        vertical-align: middle;\n",
       "    }\n",
       "\n",
       "    .dataframe tbody tr th {\n",
       "        vertical-align: top;\n",
       "    }\n",
       "\n",
       "    .dataframe thead th {\n",
       "        text-align: right;\n",
       "    }\n",
       "</style>\n",
       "<table border=\"1\" class=\"dataframe\">\n",
       "  <thead>\n",
       "    <tr style=\"text-align: right;\">\n",
       "      <th></th>\n",
       "      <th>qid</th>\n",
       "      <th>query</th>\n",
       "      <th>rel</th>\n",
       "      <th>type</th>\n",
       "      <th>doc</th>\n",
       "    </tr>\n",
       "  </thead>\n",
       "  <tbody>\n",
       "    <tr>\n",
       "      <th>0</th>\n",
       "      <td>0</td>\n",
       "      <td>are cnn ratings falling</td>\n",
       "      <td>0</td>\n",
       "      <td>original</td>\n",
       "      <td>Mustard greens are also a good food choice for...</td>\n",
       "    </tr>\n",
       "    <tr>\n",
       "      <th>1</th>\n",
       "      <td>0</td>\n",
       "      <td>are cnn ratings falling</td>\n",
       "      <td>0</td>\n",
       "      <td>original</td>\n",
       "      <td>The only concessions Jay obtained was a surren...</td>\n",
       "    </tr>\n",
       "    <tr>\n",
       "      <th>2</th>\n",
       "      <td>0</td>\n",
       "      <td>are cnn ratings falling</td>\n",
       "      <td>0</td>\n",
       "      <td>original</td>\n",
       "      <td>Allen: Constitution Prevails Over President's ...</td>\n",
       "    </tr>\n",
       "  </tbody>\n",
       "</table>\n",
       "</div>"
      ],
      "text/plain": [
       "   qid                    query  rel      type  \\\n",
       "0    0  are cnn ratings falling    0  original   \n",
       "1    0  are cnn ratings falling    0  original   \n",
       "2    0  are cnn ratings falling    0  original   \n",
       "\n",
       "                                                 doc  \n",
       "0  Mustard greens are also a good food choice for...  \n",
       "1  The only concessions Jay obtained was a surren...  \n",
       "2  Allen: Constitution Prevails Over President's ...  "
      ]
     },
     "execution_count": 14,
     "metadata": {},
     "output_type": "execute_result"
    }
   ],
   "source": [
    "queries_file= '/run/media/root/Windows/Users/agnes/Downloads/data/msmarco/queries_od.csv'\n",
    "\n",
    "df = pd.read_csv(queries_file)\n",
    "\n",
    "df.head(3)"
   ]
  },
  {
   "cell_type": "code",
   "execution_count": 15,
   "metadata": {},
   "outputs": [],
   "source": [
    "def calc_rr(rels_sorted, types_sorted, ttype='original', rel_label=1):\n",
    "    indices = np.where(rels_sorted == rel_label)[0]\n",
    "    #print(indices)\n",
    "    original = np.where(types_sorted[indices] == ttype)[0]\n",
    "    if len(original) == 0:\n",
    "        raise Exception('no relevant docs of this type')\n",
    "    return np.mean(1 / (indices[original]+1))\n"
   ]
  },
  {
   "cell_type": "code",
   "execution_count": 16,
   "metadata": {},
   "outputs": [],
   "source": [
    "from abc import ABC, abstractmethod\n",
    "\n",
    "class Ranker(ABC):\n",
    "    \n",
    "    @abstractmethod\n",
    "    def rank(self, query, docs):\n",
    "        \"\"\"\n",
    "        Return sorted indices\n",
    "        \"\"\"\n",
    "        pass"
   ]
  },
  {
   "cell_type": "code",
   "execution_count": 47,
   "metadata": {},
   "outputs": [],
   "source": [
    "from scipy.spatial.distance import cdist\n",
    "from sklearn.metrics.pairwise import cosine_similarity\n",
    "\n",
    "class SBERTRanker(Ranker):\n",
    "    def __init__(self, model):\n",
    "        self.model = model\n",
    "        \n",
    "    def rank(self, query, docs):\n",
    "        embeddings = model.encode([query] + docs)\n",
    "\n",
    "        sims = cdist(embeddings[0].reshape(-1,1).T, embeddings[1:], \"cosine\")[0]\n",
    "        indexed_sims = enumerate(sims.squeeze())   \n",
    "        indexed_sims_sorted = sorted(indexed_sims, key=lambda x:x[1], reverse=False)\n",
    "        indices_sorted = [x[0] for x in indexed_sims_sorted]\n",
    "        \n",
    "        return indices_sorted"
   ]
  },
  {
   "cell_type": "code",
   "execution_count": 48,
   "metadata": {
    "scrolled": true
   },
   "outputs": [
    {
     "name": "stdout",
     "output_type": "stream",
     "text": [
      "query: are cnn ratings falling\n",
      "query: can polycythemia cause stroke\n"
     ]
    }
   ],
   "source": [
    "def calculate_mrr_stats(ranker,\n",
    "                        types=['original', 'degree_2', 'degree_3', 'degree_4', \n",
    "                               'degree_4_split', 'degree_8', 'degree_8_split'],\n",
    "                        limit=None\n",
    "                       ):\n",
    "\n",
    "    rr_df = pd.DataFrame(columns=['qid'] + types + ['original_irrelevant'])\n",
    "\n",
    "    qids = list(set(df['qid']))\n",
    "    nr_qids = len(qids)\n",
    "    for i, qid in enumerate(qids):\n",
    "        \n",
    "        if limit is not None and i >= limit:\n",
    "            break\n",
    "            \n",
    "        query_df = df[df['qid'] == qid].reset_index(drop=True)\n",
    "        query = query_df['query'].iloc[0]\n",
    "        print('query:', query)\n",
    "\n",
    "        indices_sorted = ranker.rank(query, query_df['doc'].values.tolist())   \n",
    "\n",
    "        docs_sorted = query_df.iloc[indices_sorted]\n",
    "\n",
    "        query_rr_row = [qid]\n",
    "        for ttype in types:\n",
    "            query_rr_row.append(calc_rr(docs_sorted['rel'].values, docs_sorted['type'].values, ttype=ttype))\n",
    "        query_rr_row.append(calc_rr(docs_sorted['rel'].values, \n",
    "                                    docs_sorted['type'].values, ttype='original', \n",
    "                                    rel_label=0))        \n",
    "        rr_df = rr_df.append(pd.Series(query_rr_row, index=rr_df.columns), ignore_index=True)\n",
    "\n",
    "        if (i+1) % 5 ==  0:\n",
    "            print('processed {:d} of {:d}'.format(i+1, nr_qids))\n",
    "        \n",
    "    \n",
    "    return rr_df\n",
    "\n",
    "ranker = SBERTRanker(model)\n",
    "\n",
    "rr_df = calculate_mrr_stats(ranker, limit=2)"
   ]
  },
  {
   "cell_type": "code",
   "execution_count": 49,
   "metadata": {},
   "outputs": [
    {
     "data": {
      "text/html": [
       "<div>\n",
       "<style scoped>\n",
       "    .dataframe tbody tr th:only-of-type {\n",
       "        vertical-align: middle;\n",
       "    }\n",
       "\n",
       "    .dataframe tbody tr th {\n",
       "        vertical-align: top;\n",
       "    }\n",
       "\n",
       "    .dataframe thead th {\n",
       "        text-align: right;\n",
       "    }\n",
       "</style>\n",
       "<table border=\"1\" class=\"dataframe\">\n",
       "  <thead>\n",
       "    <tr style=\"text-align: right;\">\n",
       "      <th></th>\n",
       "      <th>qid</th>\n",
       "      <th>original</th>\n",
       "      <th>degree_2</th>\n",
       "      <th>degree_3</th>\n",
       "      <th>degree_4</th>\n",
       "      <th>degree_4_split</th>\n",
       "      <th>degree_8</th>\n",
       "      <th>degree_8_split</th>\n",
       "      <th>original_irrelevant</th>\n",
       "    </tr>\n",
       "  </thead>\n",
       "  <tbody>\n",
       "    <tr>\n",
       "      <th>0</th>\n",
       "      <td>0.0</td>\n",
       "      <td>0.25</td>\n",
       "      <td>0.149463</td>\n",
       "      <td>0.399731</td>\n",
       "      <td>0.076326</td>\n",
       "      <td>0.081496</td>\n",
       "      <td>0.044835</td>\n",
       "      <td>0.109524</td>\n",
       "      <td>0.038870</td>\n",
       "    </tr>\n",
       "    <tr>\n",
       "      <th>1</th>\n",
       "      <td>1.0</td>\n",
       "      <td>0.50</td>\n",
       "      <td>0.172222</td>\n",
       "      <td>0.078781</td>\n",
       "      <td>0.294139</td>\n",
       "      <td>0.063667</td>\n",
       "      <td>0.084675</td>\n",
       "      <td>0.066787</td>\n",
       "      <td>0.049164</td>\n",
       "    </tr>\n",
       "  </tbody>\n",
       "</table>\n",
       "</div>"
      ],
      "text/plain": [
       "   qid  original  degree_2  degree_3  degree_4  degree_4_split  degree_8  \\\n",
       "0  0.0      0.25  0.149463  0.399731  0.076326        0.081496  0.044835   \n",
       "1  1.0      0.50  0.172222  0.078781  0.294139        0.063667  0.084675   \n",
       "\n",
       "   degree_8_split  original_irrelevant  \n",
       "0        0.109524             0.038870  \n",
       "1        0.066787             0.049164  "
      ]
     },
     "execution_count": 49,
     "metadata": {},
     "output_type": "execute_result"
    }
   ],
   "source": [
    "rr_df"
   ]
  },
  {
   "cell_type": "code",
   "execution_count": 281,
   "metadata": {},
   "outputs": [],
   "source": [
    "from datetime import datetime\n",
    "\n",
    "def get_timestamp():\n",
    "    now = datetime.now()\n",
    "    return now.strftime(\"%Y-%m-%d_%H-%M\")"
   ]
  },
  {
   "cell_type": "code",
   "execution_count": 282,
   "metadata": {},
   "outputs": [],
   "source": [
    "EVAL_DIR = '/run/media/root/Windows/Users/agnes/Downloads/data/msmarco/eval'\n",
    "\n",
    "fn = 'rr_queries_od_model_sbert_' + get_timestamp() + '.csv'\n",
    "rr_df.to_csv(os.path.join(eval_dir, fn), index=None)"
   ]
  }
 ],
 "metadata": {
  "kernelspec": {
   "display_name": "udacity-project",
   "language": "python",
   "name": "udacity-project"
  },
  "language_info": {
   "codemirror_mode": {
    "name": "ipython",
    "version": 3
   },
   "file_extension": ".py",
   "mimetype": "text/x-python",
   "name": "python",
   "nbconvert_exporter": "python",
   "pygments_lexer": "ipython3",
   "version": "3.6.5"
  }
 },
 "nbformat": 4,
 "nbformat_minor": 4
}
